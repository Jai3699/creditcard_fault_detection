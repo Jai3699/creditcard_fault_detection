{
 "cells": [
  {
   "cell_type": "code",
   "execution_count": 1,
   "id": "f4b1a110-d5d6-4ba1-9ee7-5ae687c87145",
   "metadata": {},
   "outputs": [],
   "source": [
    "import pandas as pd"
   ]
  },
  {
   "cell_type": "code",
   "execution_count": 2,
   "id": "889becd2-babb-48be-b46e-261d7f77a91d",
   "metadata": {},
   "outputs": [],
   "source": [
    "df=pd.read_csv('https://raw.githubusercontent.com/sunnysavita10/credit_card_pw_hindi/main/creditCardFraud_28011964_120214.csv')"
   ]
  },
  {
   "cell_type": "code",
   "execution_count": null,
   "id": "82dec2f5-ff5e-4da0-bbec-a8b0c0e8710e",
   "metadata": {},
   "outputs": [],
   "source": []
  },
  {
   "cell_type": "code",
   "execution_count": 3,
   "id": "9f41a304-36a3-4676-8947-e74f06e9451e",
   "metadata": {},
   "outputs": [
    {
     "data": {
      "text/html": [
       "<div>\n",
       "<style scoped>\n",
       "    .dataframe tbody tr th:only-of-type {\n",
       "        vertical-align: middle;\n",
       "    }\n",
       "\n",
       "    .dataframe tbody tr th {\n",
       "        vertical-align: top;\n",
       "    }\n",
       "\n",
       "    .dataframe thead th {\n",
       "        text-align: right;\n",
       "    }\n",
       "</style>\n",
       "<table border=\"1\" class=\"dataframe\">\n",
       "  <thead>\n",
       "    <tr style=\"text-align: right;\">\n",
       "      <th></th>\n",
       "      <th>LIMIT_BAL</th>\n",
       "      <th>SEX</th>\n",
       "      <th>EDUCATION</th>\n",
       "      <th>MARRIAGE</th>\n",
       "      <th>AGE</th>\n",
       "      <th>PAY_0</th>\n",
       "      <th>PAY_2</th>\n",
       "      <th>PAY_3</th>\n",
       "      <th>PAY_4</th>\n",
       "      <th>PAY_5</th>\n",
       "      <th>...</th>\n",
       "      <th>BILL_AMT4</th>\n",
       "      <th>BILL_AMT5</th>\n",
       "      <th>BILL_AMT6</th>\n",
       "      <th>PAY_AMT1</th>\n",
       "      <th>PAY_AMT2</th>\n",
       "      <th>PAY_AMT3</th>\n",
       "      <th>PAY_AMT4</th>\n",
       "      <th>PAY_AMT5</th>\n",
       "      <th>PAY_AMT6</th>\n",
       "      <th>default payment next month</th>\n",
       "    </tr>\n",
       "  </thead>\n",
       "  <tbody>\n",
       "    <tr>\n",
       "      <th>0</th>\n",
       "      <td>50000</td>\n",
       "      <td>1</td>\n",
       "      <td>2</td>\n",
       "      <td>1</td>\n",
       "      <td>57</td>\n",
       "      <td>-1</td>\n",
       "      <td>0</td>\n",
       "      <td>-1</td>\n",
       "      <td>0</td>\n",
       "      <td>0</td>\n",
       "      <td>...</td>\n",
       "      <td>20940</td>\n",
       "      <td>19146</td>\n",
       "      <td>19131</td>\n",
       "      <td>2000</td>\n",
       "      <td>36681</td>\n",
       "      <td>10000</td>\n",
       "      <td>9000</td>\n",
       "      <td>689</td>\n",
       "      <td>679</td>\n",
       "      <td>0</td>\n",
       "    </tr>\n",
       "    <tr>\n",
       "      <th>1</th>\n",
       "      <td>50000</td>\n",
       "      <td>1</td>\n",
       "      <td>1</td>\n",
       "      <td>2</td>\n",
       "      <td>37</td>\n",
       "      <td>0</td>\n",
       "      <td>0</td>\n",
       "      <td>0</td>\n",
       "      <td>0</td>\n",
       "      <td>0</td>\n",
       "      <td>...</td>\n",
       "      <td>19394</td>\n",
       "      <td>19619</td>\n",
       "      <td>20024</td>\n",
       "      <td>2500</td>\n",
       "      <td>1815</td>\n",
       "      <td>657</td>\n",
       "      <td>1000</td>\n",
       "      <td>1000</td>\n",
       "      <td>800</td>\n",
       "      <td>0</td>\n",
       "    </tr>\n",
       "    <tr>\n",
       "      <th>2</th>\n",
       "      <td>500000</td>\n",
       "      <td>1</td>\n",
       "      <td>1</td>\n",
       "      <td>2</td>\n",
       "      <td>29</td>\n",
       "      <td>0</td>\n",
       "      <td>0</td>\n",
       "      <td>0</td>\n",
       "      <td>0</td>\n",
       "      <td>0</td>\n",
       "      <td>...</td>\n",
       "      <td>542653</td>\n",
       "      <td>483003</td>\n",
       "      <td>473944</td>\n",
       "      <td>55000</td>\n",
       "      <td>40000</td>\n",
       "      <td>38000</td>\n",
       "      <td>20239</td>\n",
       "      <td>13750</td>\n",
       "      <td>13770</td>\n",
       "      <td>0</td>\n",
       "    </tr>\n",
       "    <tr>\n",
       "      <th>3</th>\n",
       "      <td>100000</td>\n",
       "      <td>2</td>\n",
       "      <td>2</td>\n",
       "      <td>2</td>\n",
       "      <td>23</td>\n",
       "      <td>0</td>\n",
       "      <td>-1</td>\n",
       "      <td>-1</td>\n",
       "      <td>0</td>\n",
       "      <td>0</td>\n",
       "      <td>...</td>\n",
       "      <td>221</td>\n",
       "      <td>-159</td>\n",
       "      <td>567</td>\n",
       "      <td>380</td>\n",
       "      <td>601</td>\n",
       "      <td>0</td>\n",
       "      <td>581</td>\n",
       "      <td>1687</td>\n",
       "      <td>1542</td>\n",
       "      <td>0</td>\n",
       "    </tr>\n",
       "    <tr>\n",
       "      <th>4</th>\n",
       "      <td>140000</td>\n",
       "      <td>2</td>\n",
       "      <td>3</td>\n",
       "      <td>1</td>\n",
       "      <td>28</td>\n",
       "      <td>0</td>\n",
       "      <td>0</td>\n",
       "      <td>2</td>\n",
       "      <td>0</td>\n",
       "      <td>0</td>\n",
       "      <td>...</td>\n",
       "      <td>12211</td>\n",
       "      <td>11793</td>\n",
       "      <td>3719</td>\n",
       "      <td>3329</td>\n",
       "      <td>0</td>\n",
       "      <td>432</td>\n",
       "      <td>1000</td>\n",
       "      <td>1000</td>\n",
       "      <td>1000</td>\n",
       "      <td>0</td>\n",
       "    </tr>\n",
       "  </tbody>\n",
       "</table>\n",
       "<p>5 rows × 24 columns</p>\n",
       "</div>"
      ],
      "text/plain": [
       "   LIMIT_BAL  SEX  EDUCATION  MARRIAGE  AGE  PAY_0  PAY_2  PAY_3  PAY_4  \\\n",
       "0      50000    1          2         1   57     -1      0     -1      0   \n",
       "1      50000    1          1         2   37      0      0      0      0   \n",
       "2     500000    1          1         2   29      0      0      0      0   \n",
       "3     100000    2          2         2   23      0     -1     -1      0   \n",
       "4     140000    2          3         1   28      0      0      2      0   \n",
       "\n",
       "   PAY_5  ...  BILL_AMT4  BILL_AMT5  BILL_AMT6  PAY_AMT1  PAY_AMT2  PAY_AMT3  \\\n",
       "0      0  ...      20940      19146      19131      2000     36681     10000   \n",
       "1      0  ...      19394      19619      20024      2500      1815       657   \n",
       "2      0  ...     542653     483003     473944     55000     40000     38000   \n",
       "3      0  ...        221       -159        567       380       601         0   \n",
       "4      0  ...      12211      11793       3719      3329         0       432   \n",
       "\n",
       "   PAY_AMT4  PAY_AMT5  PAY_AMT6  default payment next month  \n",
       "0      9000       689       679                           0  \n",
       "1      1000      1000       800                           0  \n",
       "2     20239     13750     13770                           0  \n",
       "3       581      1687      1542                           0  \n",
       "4      1000      1000      1000                           0  \n",
       "\n",
       "[5 rows x 24 columns]"
      ]
     },
     "execution_count": 3,
     "metadata": {},
     "output_type": "execute_result"
    }
   ],
   "source": [
    "df.head()"
   ]
  },
  {
   "cell_type": "code",
   "execution_count": 4,
   "id": "6da32ea5-a5d5-420f-b312-32efaeebf572",
   "metadata": {},
   "outputs": [
    {
     "data": {
      "text/plain": [
       "LIMIT_BAL                     0\n",
       "SEX                           0\n",
       "EDUCATION                     0\n",
       "MARRIAGE                      0\n",
       "AGE                           0\n",
       "PAY_0                         0\n",
       "PAY_2                         0\n",
       "PAY_3                         0\n",
       "PAY_4                         0\n",
       "PAY_5                         0\n",
       "PAY_6                         0\n",
       "BILL_AMT1                     0\n",
       "BILL_AMT2                     0\n",
       "BILL_AMT3                     0\n",
       "BILL_AMT4                     0\n",
       "BILL_AMT5                     0\n",
       "BILL_AMT6                     0\n",
       "PAY_AMT1                      0\n",
       "PAY_AMT2                      0\n",
       "PAY_AMT3                      0\n",
       "PAY_AMT4                      0\n",
       "PAY_AMT5                      0\n",
       "PAY_AMT6                      0\n",
       "default payment next month    0\n",
       "dtype: int64"
      ]
     },
     "execution_count": 4,
     "metadata": {},
     "output_type": "execute_result"
    }
   ],
   "source": [
    "df.isnull().sum()"
   ]
  },
  {
   "cell_type": "code",
   "execution_count": 5,
   "id": "b8db327d-964f-4c70-97bf-04556d726665",
   "metadata": {},
   "outputs": [
    {
     "name": "stderr",
     "output_type": "stream",
     "text": [
      "/tmp/ipykernel_3250/2274191625.py:1: DeprecationWarning: `import pandas_profiling` is going to be deprecated by April 1st. Please use `import ydata_profiling` instead.\n",
      "  from pandas_profiling import ProfileReport\n"
     ]
    }
   ],
   "source": [
    "from pandas_profiling import ProfileReport"
   ]
  },
  {
   "cell_type": "code",
   "execution_count": 6,
   "id": "857c970c-7bb5-4f82-b6bb-57a79fdedaa2",
   "metadata": {},
   "outputs": [],
   "source": [
    "profile=ProfileReport(df,title='profiling report')"
   ]
  },
  {
   "cell_type": "code",
   "execution_count": 7,
   "id": "ed406c82-2319-4bed-9925-131c00331959",
   "metadata": {},
   "outputs": [
    {
     "name": "stdout",
     "output_type": "stream",
     "text": [
      "<class 'pandas.core.frame.DataFrame'>\n",
      "RangeIndex: 1001 entries, 0 to 1000\n",
      "Data columns (total 24 columns):\n",
      " #   Column                      Non-Null Count  Dtype\n",
      "---  ------                      --------------  -----\n",
      " 0   LIMIT_BAL                   1001 non-null   int64\n",
      " 1   SEX                         1001 non-null   int64\n",
      " 2   EDUCATION                   1001 non-null   int64\n",
      " 3   MARRIAGE                    1001 non-null   int64\n",
      " 4   AGE                         1001 non-null   int64\n",
      " 5   PAY_0                       1001 non-null   int64\n",
      " 6   PAY_2                       1001 non-null   int64\n",
      " 7   PAY_3                       1001 non-null   int64\n",
      " 8   PAY_4                       1001 non-null   int64\n",
      " 9   PAY_5                       1001 non-null   int64\n",
      " 10  PAY_6                       1001 non-null   int64\n",
      " 11  BILL_AMT1                   1001 non-null   int64\n",
      " 12  BILL_AMT2                   1001 non-null   int64\n",
      " 13  BILL_AMT3                   1001 non-null   int64\n",
      " 14  BILL_AMT4                   1001 non-null   int64\n",
      " 15  BILL_AMT5                   1001 non-null   int64\n",
      " 16  BILL_AMT6                   1001 non-null   int64\n",
      " 17  PAY_AMT1                    1001 non-null   int64\n",
      " 18  PAY_AMT2                    1001 non-null   int64\n",
      " 19  PAY_AMT3                    1001 non-null   int64\n",
      " 20  PAY_AMT4                    1001 non-null   int64\n",
      " 21  PAY_AMT5                    1001 non-null   int64\n",
      " 22  PAY_AMT6                    1001 non-null   int64\n",
      " 23  default payment next month  1001 non-null   int64\n",
      "dtypes: int64(24)\n",
      "memory usage: 187.8 KB\n"
     ]
    }
   ],
   "source": [
    "df.info()"
   ]
  },
  {
   "cell_type": "code",
   "execution_count": 10,
   "id": "cce61862-fd03-4c6b-bcd7-f223742ceeff",
   "metadata": {},
   "outputs": [],
   "source": [
    "import seaborn as sns\n",
    "import matplotlib.pyplot as plt"
   ]
  },
  {
   "cell_type": "code",
   "execution_count": 11,
   "id": "e73a3bc5-da0a-419c-bc51-804d04983528",
   "metadata": {},
   "outputs": [
    {
     "data": {
      "text/plain": [
       "<AxesSubplot: >"
      ]
     },
     "execution_count": 11,
     "metadata": {},
     "output_type": "execute_result"
    },
    {
     "data": {
      "image/png": "[encoded data removed]",
      "text/plain": [
       "<Figure size 1000x800 with 1 Axes>"
      ]
     },
     "metadata": {},
     "output_type": "display_data"
    }
   ],
   "source": [
    "plt.figure(figsize=(10,8))\n",
    "sns.boxplot(df)"
   ]
  },
  {
   "cell_type": "code",
   "execution_count": 14,
   "id": "a8e4c1d4-17ed-4bb5-89fa-358e937716da",
   "metadata": {},
   "outputs": [
    {
     "data": {
      "text/plain": [
       "0"
      ]
     },
     "execution_count": 14,
     "metadata": {},
     "output_type": "execute_result"
    }
   ],
   "source": [
    "df.duplicated().sum()"
   ]
  },
  {
   "cell_type": "code",
   "execution_count": 15,
   "id": "9595ef17-ff15-4eb8-b629-1e1d63a6dd7c",
   "metadata": {},
   "outputs": [
    {
     "data": {
      "text/html": [
       "<div>\n",
       "<style scoped>\n",
       "    .dataframe tbody tr th:only-of-type {\n",
       "        vertical-align: middle;\n",
       "    }\n",
       "\n",
       "    .dataframe tbody tr th {\n",
       "        vertical-align: top;\n",
       "    }\n",
       "\n",
       "    .dataframe thead th {\n",
       "        text-align: right;\n",
       "    }\n",
       "</style>\n",
       "<table border=\"1\" class=\"dataframe\">\n",
       "  <thead>\n",
       "    <tr style=\"text-align: right;\">\n",
       "      <th></th>\n",
       "      <th>LIMIT_BAL</th>\n",
       "      <th>SEX</th>\n",
       "      <th>EDUCATION</th>\n",
       "      <th>MARRIAGE</th>\n",
       "      <th>AGE</th>\n",
       "      <th>PAY_0</th>\n",
       "      <th>PAY_2</th>\n",
       "      <th>PAY_3</th>\n",
       "      <th>PAY_4</th>\n",
       "      <th>PAY_5</th>\n",
       "      <th>...</th>\n",
       "      <th>BILL_AMT4</th>\n",
       "      <th>BILL_AMT5</th>\n",
       "      <th>BILL_AMT6</th>\n",
       "      <th>PAY_AMT1</th>\n",
       "      <th>PAY_AMT2</th>\n",
       "      <th>PAY_AMT3</th>\n",
       "      <th>PAY_AMT4</th>\n",
       "      <th>PAY_AMT5</th>\n",
       "      <th>PAY_AMT6</th>\n",
       "      <th>default payment next month</th>\n",
       "    </tr>\n",
       "  </thead>\n",
       "  <tbody>\n",
       "    <tr>\n",
       "      <th>0</th>\n",
       "      <td>50000</td>\n",
       "      <td>1</td>\n",
       "      <td>2</td>\n",
       "      <td>1</td>\n",
       "      <td>57</td>\n",
       "      <td>-1</td>\n",
       "      <td>0</td>\n",
       "      <td>-1</td>\n",
       "      <td>0</td>\n",
       "      <td>0</td>\n",
       "      <td>...</td>\n",
       "      <td>20940</td>\n",
       "      <td>19146</td>\n",
       "      <td>19131</td>\n",
       "      <td>2000</td>\n",
       "      <td>36681</td>\n",
       "      <td>10000</td>\n",
       "      <td>9000</td>\n",
       "      <td>689</td>\n",
       "      <td>679</td>\n",
       "      <td>0</td>\n",
       "    </tr>\n",
       "    <tr>\n",
       "      <th>1</th>\n",
       "      <td>50000</td>\n",
       "      <td>1</td>\n",
       "      <td>1</td>\n",
       "      <td>2</td>\n",
       "      <td>37</td>\n",
       "      <td>0</td>\n",
       "      <td>0</td>\n",
       "      <td>0</td>\n",
       "      <td>0</td>\n",
       "      <td>0</td>\n",
       "      <td>...</td>\n",
       "      <td>19394</td>\n",
       "      <td>19619</td>\n",
       "      <td>20024</td>\n",
       "      <td>2500</td>\n",
       "      <td>1815</td>\n",
       "      <td>657</td>\n",
       "      <td>1000</td>\n",
       "      <td>1000</td>\n",
       "      <td>800</td>\n",
       "      <td>0</td>\n",
       "    </tr>\n",
       "    <tr>\n",
       "      <th>2</th>\n",
       "      <td>500000</td>\n",
       "      <td>1</td>\n",
       "      <td>1</td>\n",
       "      <td>2</td>\n",
       "      <td>29</td>\n",
       "      <td>0</td>\n",
       "      <td>0</td>\n",
       "      <td>0</td>\n",
       "      <td>0</td>\n",
       "      <td>0</td>\n",
       "      <td>...</td>\n",
       "      <td>542653</td>\n",
       "      <td>483003</td>\n",
       "      <td>473944</td>\n",
       "      <td>55000</td>\n",
       "      <td>40000</td>\n",
       "      <td>38000</td>\n",
       "      <td>20239</td>\n",
       "      <td>13750</td>\n",
       "      <td>13770</td>\n",
       "      <td>0</td>\n",
       "    </tr>\n",
       "    <tr>\n",
       "      <th>3</th>\n",
       "      <td>100000</td>\n",
       "      <td>2</td>\n",
       "      <td>2</td>\n",
       "      <td>2</td>\n",
       "      <td>23</td>\n",
       "      <td>0</td>\n",
       "      <td>-1</td>\n",
       "      <td>-1</td>\n",
       "      <td>0</td>\n",
       "      <td>0</td>\n",
       "      <td>...</td>\n",
       "      <td>221</td>\n",
       "      <td>-159</td>\n",
       "      <td>567</td>\n",
       "      <td>380</td>\n",
       "      <td>601</td>\n",
       "      <td>0</td>\n",
       "      <td>581</td>\n",
       "      <td>1687</td>\n",
       "      <td>1542</td>\n",
       "      <td>0</td>\n",
       "    </tr>\n",
       "    <tr>\n",
       "      <th>4</th>\n",
       "      <td>140000</td>\n",
       "      <td>2</td>\n",
       "      <td>3</td>\n",
       "      <td>1</td>\n",
       "      <td>28</td>\n",
       "      <td>0</td>\n",
       "      <td>0</td>\n",
       "      <td>2</td>\n",
       "      <td>0</td>\n",
       "      <td>0</td>\n",
       "      <td>...</td>\n",
       "      <td>12211</td>\n",
       "      <td>11793</td>\n",
       "      <td>3719</td>\n",
       "      <td>3329</td>\n",
       "      <td>0</td>\n",
       "      <td>432</td>\n",
       "      <td>1000</td>\n",
       "      <td>1000</td>\n",
       "      <td>1000</td>\n",
       "      <td>0</td>\n",
       "    </tr>\n",
       "  </tbody>\n",
       "</table>\n",
       "<p>5 rows × 24 columns</p>\n",
       "</div>"
      ],
      "text/plain": [
       "   LIMIT_BAL  SEX  EDUCATION  MARRIAGE  AGE  PAY_0  PAY_2  PAY_3  PAY_4  \\\n",
       "0      50000    1          2         1   57     -1      0     -1      0   \n",
       "1      50000    1          1         2   37      0      0      0      0   \n",
       "2     500000    1          1         2   29      0      0      0      0   \n",
       "3     100000    2          2         2   23      0     -1     -1      0   \n",
       "4     140000    2          3         1   28      0      0      2      0   \n",
       "\n",
       "   PAY_5  ...  BILL_AMT4  BILL_AMT5  BILL_AMT6  PAY_AMT1  PAY_AMT2  PAY_AMT3  \\\n",
       "0      0  ...      20940      19146      19131      2000     36681     10000   \n",
       "1      0  ...      19394      19619      20024      2500      1815       657   \n",
       "2      0  ...     542653     483003     473944     55000     40000     38000   \n",
       "3      0  ...        221       -159        567       380       601         0   \n",
       "4      0  ...      12211      11793       3719      3329         0       432   \n",
       "\n",
       "   PAY_AMT4  PAY_AMT5  PAY_AMT6  default payment next month  \n",
       "0      9000       689       679                           0  \n",
       "1      1000      1000       800                           0  \n",
       "2     20239     13750     13770                           0  \n",
       "3       581      1687      1542                           0  \n",
       "4      1000      1000      1000                           0  \n",
       "\n",
       "[5 rows x 24 columns]"
      ]
     },
     "execution_count": 15,
     "metadata": {},
     "output_type": "execute_result"
    }
   ],
   "source": [
    "df.head()"
   ]
  },
  {
   "cell_type": "code",
   "execution_count": 18,
   "id": "7911c682-63d5-4b60-85ec-080816f3d2a3",
   "metadata": {},
   "outputs": [
    {
     "data": {
      "text/plain": [
       "Index(['LIMIT_BAL', 'SEX', 'EDUCATION', 'MARRIAGE', 'AGE', 'PAY_0', 'PAY_2',\n",
       "       'PAY_3', 'PAY_4', 'PAY_5', 'PAY_6', 'BILL_AMT1', 'BILL_AMT2',\n",
       "       'BILL_AMT3', 'BILL_AMT4', 'BILL_AMT5', 'BILL_AMT6', 'PAY_AMT1',\n",
       "       'PAY_AMT2', 'PAY_AMT3', 'PAY_AMT4', 'PAY_AMT5', 'PAY_AMT6',\n",
       "       'default payment next month'],\n",
       "      dtype='object')"
      ]
     },
     "execution_count": 18,
     "metadata": {},
     "output_type": "execute_result"
    }
   ],
   "source": [
    "df.columns"
   ]
  },
  {
   "cell_type": "code",
   "execution_count": 20,
   "id": "bc9f0262-5143-4cec-bee3-822e831dc2b1",
   "metadata": {},
   "outputs": [],
   "source": [
    "x=df.drop('default payment next month',axis=1)"
   ]
  },
  {
   "cell_type": "code",
   "execution_count": 21,
   "id": "cb2a2e12-6130-40e7-9e06-319f5f95ab97",
   "metadata": {},
   "outputs": [
    {
     "data": {
      "text/html": [
       "<div>\n",
       "<style scoped>\n",
       "    .dataframe tbody tr th:only-of-type {\n",
       "        vertical-align: middle;\n",
       "    }\n",
       "\n",
       "    .dataframe tbody tr th {\n",
       "        vertical-align: top;\n",
       "    }\n",
       "\n",
       "    .dataframe thead th {\n",
       "        text-align: right;\n",
       "    }\n",
       "</style>\n",
       "<table border=\"1\" class=\"dataframe\">\n",
       "  <thead>\n",
       "    <tr style=\"text-align: right;\">\n",
       "      <th></th>\n",
       "      <th>LIMIT_BAL</th>\n",
       "      <th>SEX</th>\n",
       "      <th>EDUCATION</th>\n",
       "      <th>MARRIAGE</th>\n",
       "      <th>AGE</th>\n",
       "      <th>PAY_0</th>\n",
       "      <th>PAY_2</th>\n",
       "      <th>PAY_3</th>\n",
       "      <th>PAY_4</th>\n",
       "      <th>PAY_5</th>\n",
       "      <th>...</th>\n",
       "      <th>BILL_AMT3</th>\n",
       "      <th>BILL_AMT4</th>\n",
       "      <th>BILL_AMT5</th>\n",
       "      <th>BILL_AMT6</th>\n",
       "      <th>PAY_AMT1</th>\n",
       "      <th>PAY_AMT2</th>\n",
       "      <th>PAY_AMT3</th>\n",
       "      <th>PAY_AMT4</th>\n",
       "      <th>PAY_AMT5</th>\n",
       "      <th>PAY_AMT6</th>\n",
       "    </tr>\n",
       "  </thead>\n",
       "  <tbody>\n",
       "    <tr>\n",
       "      <th>0</th>\n",
       "      <td>50000</td>\n",
       "      <td>1</td>\n",
       "      <td>2</td>\n",
       "      <td>1</td>\n",
       "      <td>57</td>\n",
       "      <td>-1</td>\n",
       "      <td>0</td>\n",
       "      <td>-1</td>\n",
       "      <td>0</td>\n",
       "      <td>0</td>\n",
       "      <td>...</td>\n",
       "      <td>35835</td>\n",
       "      <td>20940</td>\n",
       "      <td>19146</td>\n",
       "      <td>19131</td>\n",
       "      <td>2000</td>\n",
       "      <td>36681</td>\n",
       "      <td>10000</td>\n",
       "      <td>9000</td>\n",
       "      <td>689</td>\n",
       "      <td>679</td>\n",
       "    </tr>\n",
       "    <tr>\n",
       "      <th>1</th>\n",
       "      <td>50000</td>\n",
       "      <td>1</td>\n",
       "      <td>1</td>\n",
       "      <td>2</td>\n",
       "      <td>37</td>\n",
       "      <td>0</td>\n",
       "      <td>0</td>\n",
       "      <td>0</td>\n",
       "      <td>0</td>\n",
       "      <td>0</td>\n",
       "      <td>...</td>\n",
       "      <td>57608</td>\n",
       "      <td>19394</td>\n",
       "      <td>19619</td>\n",
       "      <td>20024</td>\n",
       "      <td>2500</td>\n",
       "      <td>1815</td>\n",
       "      <td>657</td>\n",
       "      <td>1000</td>\n",
       "      <td>1000</td>\n",
       "      <td>800</td>\n",
       "    </tr>\n",
       "    <tr>\n",
       "      <th>2</th>\n",
       "      <td>500000</td>\n",
       "      <td>1</td>\n",
       "      <td>1</td>\n",
       "      <td>2</td>\n",
       "      <td>29</td>\n",
       "      <td>0</td>\n",
       "      <td>0</td>\n",
       "      <td>0</td>\n",
       "      <td>0</td>\n",
       "      <td>0</td>\n",
       "      <td>...</td>\n",
       "      <td>445007</td>\n",
       "      <td>542653</td>\n",
       "      <td>483003</td>\n",
       "      <td>473944</td>\n",
       "      <td>55000</td>\n",
       "      <td>40000</td>\n",
       "      <td>38000</td>\n",
       "      <td>20239</td>\n",
       "      <td>13750</td>\n",
       "      <td>13770</td>\n",
       "    </tr>\n",
       "    <tr>\n",
       "      <th>3</th>\n",
       "      <td>100000</td>\n",
       "      <td>2</td>\n",
       "      <td>2</td>\n",
       "      <td>2</td>\n",
       "      <td>23</td>\n",
       "      <td>0</td>\n",
       "      <td>-1</td>\n",
       "      <td>-1</td>\n",
       "      <td>0</td>\n",
       "      <td>0</td>\n",
       "      <td>...</td>\n",
       "      <td>601</td>\n",
       "      <td>221</td>\n",
       "      <td>-159</td>\n",
       "      <td>567</td>\n",
       "      <td>380</td>\n",
       "      <td>601</td>\n",
       "      <td>0</td>\n",
       "      <td>581</td>\n",
       "      <td>1687</td>\n",
       "      <td>1542</td>\n",
       "    </tr>\n",
       "    <tr>\n",
       "      <th>4</th>\n",
       "      <td>140000</td>\n",
       "      <td>2</td>\n",
       "      <td>3</td>\n",
       "      <td>1</td>\n",
       "      <td>28</td>\n",
       "      <td>0</td>\n",
       "      <td>0</td>\n",
       "      <td>2</td>\n",
       "      <td>0</td>\n",
       "      <td>0</td>\n",
       "      <td>...</td>\n",
       "      <td>12108</td>\n",
       "      <td>12211</td>\n",
       "      <td>11793</td>\n",
       "      <td>3719</td>\n",
       "      <td>3329</td>\n",
       "      <td>0</td>\n",
       "      <td>432</td>\n",
       "      <td>1000</td>\n",
       "      <td>1000</td>\n",
       "      <td>1000</td>\n",
       "    </tr>\n",
       "    <tr>\n",
       "      <th>...</th>\n",
       "      <td>...</td>\n",
       "      <td>...</td>\n",
       "      <td>...</td>\n",
       "      <td>...</td>\n",
       "      <td>...</td>\n",
       "      <td>...</td>\n",
       "      <td>...</td>\n",
       "      <td>...</td>\n",
       "      <td>...</td>\n",
       "      <td>...</td>\n",
       "      <td>...</td>\n",
       "      <td>...</td>\n",
       "      <td>...</td>\n",
       "      <td>...</td>\n",
       "      <td>...</td>\n",
       "      <td>...</td>\n",
       "      <td>...</td>\n",
       "      <td>...</td>\n",
       "      <td>...</td>\n",
       "      <td>...</td>\n",
       "      <td>...</td>\n",
       "    </tr>\n",
       "    <tr>\n",
       "      <th>996</th>\n",
       "      <td>100000</td>\n",
       "      <td>1</td>\n",
       "      <td>2</td>\n",
       "      <td>1</td>\n",
       "      <td>29</td>\n",
       "      <td>0</td>\n",
       "      <td>0</td>\n",
       "      <td>0</td>\n",
       "      <td>0</td>\n",
       "      <td>-1</td>\n",
       "      <td>...</td>\n",
       "      <td>67782</td>\n",
       "      <td>-2618</td>\n",
       "      <td>95748</td>\n",
       "      <td>101299</td>\n",
       "      <td>3320</td>\n",
       "      <td>5000</td>\n",
       "      <td>0</td>\n",
       "      <td>100000</td>\n",
       "      <td>7186</td>\n",
       "      <td>0</td>\n",
       "    </tr>\n",
       "    <tr>\n",
       "      <th>997</th>\n",
       "      <td>200000</td>\n",
       "      <td>2</td>\n",
       "      <td>2</td>\n",
       "      <td>1</td>\n",
       "      <td>28</td>\n",
       "      <td>0</td>\n",
       "      <td>0</td>\n",
       "      <td>0</td>\n",
       "      <td>0</td>\n",
       "      <td>0</td>\n",
       "      <td>...</td>\n",
       "      <td>8441</td>\n",
       "      <td>97041</td>\n",
       "      <td>103541</td>\n",
       "      <td>3632</td>\n",
       "      <td>5000</td>\n",
       "      <td>2000</td>\n",
       "      <td>89000</td>\n",
       "      <td>6500</td>\n",
       "      <td>91</td>\n",
       "      <td>1504</td>\n",
       "    </tr>\n",
       "    <tr>\n",
       "      <th>998</th>\n",
       "      <td>90000</td>\n",
       "      <td>2</td>\n",
       "      <td>2</td>\n",
       "      <td>1</td>\n",
       "      <td>40</td>\n",
       "      <td>-1</td>\n",
       "      <td>-1</td>\n",
       "      <td>-1</td>\n",
       "      <td>-1</td>\n",
       "      <td>-1</td>\n",
       "      <td>...</td>\n",
       "      <td>1114</td>\n",
       "      <td>657</td>\n",
       "      <td>1332</td>\n",
       "      <td>780</td>\n",
       "      <td>0</td>\n",
       "      <td>2806</td>\n",
       "      <td>2256</td>\n",
       "      <td>2274</td>\n",
       "      <td>780</td>\n",
       "      <td>0</td>\n",
       "    </tr>\n",
       "    <tr>\n",
       "      <th>999</th>\n",
       "      <td>360000</td>\n",
       "      <td>1</td>\n",
       "      <td>1</td>\n",
       "      <td>2</td>\n",
       "      <td>36</td>\n",
       "      <td>1</td>\n",
       "      <td>-2</td>\n",
       "      <td>-2</td>\n",
       "      <td>-2</td>\n",
       "      <td>-2</td>\n",
       "      <td>...</td>\n",
       "      <td>0</td>\n",
       "      <td>0</td>\n",
       "      <td>0</td>\n",
       "      <td>0</td>\n",
       "      <td>0</td>\n",
       "      <td>0</td>\n",
       "      <td>0</td>\n",
       "      <td>0</td>\n",
       "      <td>0</td>\n",
       "      <td>0</td>\n",
       "    </tr>\n",
       "    <tr>\n",
       "      <th>1000</th>\n",
       "      <td>150000</td>\n",
       "      <td>2</td>\n",
       "      <td>3</td>\n",
       "      <td>2</td>\n",
       "      <td>30</td>\n",
       "      <td>-2</td>\n",
       "      <td>-2</td>\n",
       "      <td>-2</td>\n",
       "      <td>-2</td>\n",
       "      <td>-2</td>\n",
       "      <td>...</td>\n",
       "      <td>3420</td>\n",
       "      <td>2527</td>\n",
       "      <td>0</td>\n",
       "      <td>0</td>\n",
       "      <td>9664</td>\n",
       "      <td>3420</td>\n",
       "      <td>2612</td>\n",
       "      <td>0</td>\n",
       "      <td>0</td>\n",
       "      <td>0</td>\n",
       "    </tr>\n",
       "  </tbody>\n",
       "</table>\n",
       "<p>1001 rows × 23 columns</p>\n",
       "</div>"
      ],
      "text/plain": [
       "      LIMIT_BAL  SEX  EDUCATION  MARRIAGE  AGE  PAY_0  PAY_2  PAY_3  PAY_4  \\\n",
       "0         50000    1          2         1   57     -1      0     -1      0   \n",
       "1         50000    1          1         2   37      0      0      0      0   \n",
       "2        500000    1          1         2   29      0      0      0      0   \n",
       "3        100000    2          2         2   23      0     -1     -1      0   \n",
       "4        140000    2          3         1   28      0      0      2      0   \n",
       "...         ...  ...        ...       ...  ...    ...    ...    ...    ...   \n",
       "996      100000    1          2         1   29      0      0      0      0   \n",
       "997      200000    2          2         1   28      0      0      0      0   \n",
       "998       90000    2          2         1   40     -1     -1     -1     -1   \n",
       "999      360000    1          1         2   36      1     -2     -2     -2   \n",
       "1000     150000    2          3         2   30     -2     -2     -2     -2   \n",
       "\n",
       "      PAY_5  ...  BILL_AMT3  BILL_AMT4  BILL_AMT5  BILL_AMT6  PAY_AMT1  \\\n",
       "0         0  ...      35835      20940      19146      19131      2000   \n",
       "1         0  ...      57608      19394      19619      20024      2500   \n",
       "2         0  ...     445007     542653     483003     473944     55000   \n",
       "3         0  ...        601        221       -159        567       380   \n",
       "4         0  ...      12108      12211      11793       3719      3329   \n",
       "...     ...  ...        ...        ...        ...        ...       ...   \n",
       "996      -1  ...      67782      -2618      95748     101299      3320   \n",
       "997       0  ...       8441      97041     103541       3632      5000   \n",
       "998      -1  ...       1114        657       1332        780         0   \n",
       "999      -2  ...          0          0          0          0         0   \n",
       "1000     -2  ...       3420       2527          0          0      9664   \n",
       "\n",
       "      PAY_AMT2  PAY_AMT3  PAY_AMT4  PAY_AMT5  PAY_AMT6  \n",
       "0        36681     10000      9000       689       679  \n",
       "1         1815       657      1000      1000       800  \n",
       "2        40000     38000     20239     13750     13770  \n",
       "3          601         0       581      1687      1542  \n",
       "4            0       432      1000      1000      1000  \n",
       "...        ...       ...       ...       ...       ...  \n",
       "996       5000         0    100000      7186         0  \n",
       "997       2000     89000      6500        91      1504  \n",
       "998       2806      2256      2274       780         0  \n",
       "999          0         0         0         0         0  \n",
       "1000      3420      2612         0         0         0  \n",
       "\n",
       "[1001 rows x 23 columns]"
      ]
     },
     "execution_count": 21,
     "metadata": {},
     "output_type": "execute_result"
    }
   ],
   "source": [
    "x"
   ]
  },
  {
   "cell_type": "code",
   "execution_count": 22,
   "id": "21e804f8-4787-4a62-9d22-c9f633b8d195",
   "metadata": {},
   "outputs": [],
   "source": [
    "y=df['default payment next month']"
   ]
  },
  {
   "cell_type": "code",
   "execution_count": 23,
   "id": "4d8fdc79-5886-4c5c-a4d1-b658676156dd",
   "metadata": {},
   "outputs": [
    {
     "data": {
      "text/plain": [
       "0       0\n",
       "1       0\n",
       "2       0\n",
       "3       0\n",
       "4       0\n",
       "       ..\n",
       "996     0\n",
       "997     0\n",
       "998     0\n",
       "999     1\n",
       "1000    1\n",
       "Name: default payment next month, Length: 1001, dtype: int64"
      ]
     },
     "execution_count": 23,
     "metadata": {},
     "output_type": "execute_result"
    }
   ],
   "source": [
    "y"
   ]
  },
  {
   "cell_type": "code",
   "execution_count": 24,
   "id": "f7bd3c8b-5ffa-4731-8358-8a8bf588db03",
   "metadata": {},
   "outputs": [],
   "source": [
    "from sklearn.model_selection import train_test_split"
   ]
  },
  {
   "cell_type": "code",
   "execution_count": 25,
   "id": "1badc1a1-d44f-4ff0-8f82-cf567dd046da",
   "metadata": {},
   "outputs": [],
   "source": [
    "x_train,x_test,y_train,y_test=train_test_split(x,y,test_size=0.3,random_state=42)"
   ]
  },
  {
   "cell_type": "code",
   "execution_count": 26,
   "id": "ebc357d4-b4c7-4bba-aacd-b661b2b00589",
   "metadata": {},
   "outputs": [],
   "source": [
    "from sklearn.preprocessing import StandardScaler"
   ]
  },
  {
   "cell_type": "code",
   "execution_count": 29,
   "id": "0e13a3be-9da2-46b2-80b5-5a613192a1e1",
   "metadata": {},
   "outputs": [],
   "source": [
    "scaler=StandardScaler()"
   ]
  },
  {
   "cell_type": "code",
   "execution_count": 30,
   "id": "fe798945-4aad-435a-ad4f-7baad985c37b",
   "metadata": {},
   "outputs": [],
   "source": [
    "x_train=scaler.fit_transform(x_train)"
   ]
  },
  {
   "cell_type": "code",
   "execution_count": 32,
   "id": "a6d9f20a-61a6-487d-a5ec-37d1eea1f7b9",
   "metadata": {},
   "outputs": [],
   "source": [
    "x_test=scaler.transform(x_test)"
   ]
  },
  {
   "cell_type": "code",
   "execution_count": 33,
   "id": "7ec0c98d-c8e8-491d-8022-34dbcf6b8fe8",
   "metadata": {},
   "outputs": [
    {
     "data": {
      "text/plain": [
       "array([[ 0.5414973 , -1.19959343, -1.03690208, ...,  0.30029822,\n",
       "         0.14184692,  0.10485884],\n",
       "       [ 0.46524541,  0.83361577, -1.03690208, ...,  0.50718682,\n",
       "         0.08514383, -0.20352712],\n",
       "       [-1.13604411,  0.83361577,  1.61696065, ..., -0.10330007,\n",
       "        -0.22379799, -0.15947198],\n",
       "       ...,\n",
       "       [ 0.23648977, -1.19959343, -1.03690208, ..., -0.21890942,\n",
       "        -0.1394184 , -0.09338928],\n",
       "       [-0.67853282,  0.83361577, -1.03690208, ...,  2.94847233,\n",
       "        -0.20692207, -0.12863339],\n",
       "       [-0.67853282,  0.83361577,  0.29002928, ..., -0.26657656,\n",
       "        -0.24348656, -0.15793005]])"
      ]
     },
     "execution_count": 33,
     "metadata": {},
     "output_type": "execute_result"
    }
   ],
   "source": [
    "x_train"
   ]
  },
  {
   "cell_type": "code",
   "execution_count": 34,
   "id": "e3d011c0-77c1-4101-9f9b-9ae8afa98549",
   "metadata": {},
   "outputs": [],
   "source": [
    "from sklearn.naive_bayes import GaussianNB"
   ]
  },
  {
   "cell_type": "code",
   "execution_count": 35,
   "id": "adb1520e-c858-4f8e-9962-40ab91cdcadf",
   "metadata": {},
   "outputs": [],
   "source": [
    "gnb=GaussianNB()"
   ]
  },
  {
   "cell_type": "code",
   "execution_count": 36,
   "id": "cf0438c6-f34e-405c-9f49-7640129ab8ed",
   "metadata": {},
   "outputs": [
    {
     "data": {
      "text/html": [
       "<style>#sk-container-id-1 {color: black;background-color: white;}#sk-container-id-1 pre{padding: 0;}#sk-container-id-1 div.sk-toggleable {background-color: white;}#sk-container-id-1 label.sk-toggleable__label {cursor: pointer;display: block;width: 100%;margin-bottom: 0;padding: 0.3em;box-sizing: border-box;text-align: center;}#sk-container-id-1 label.sk-toggleable__label-arrow:before {content: \"▸\";float: left;margin-right: 0.25em;color: #696969;}#sk-container-id-1 label.sk-toggleable__label-arrow:hover:before {color: black;}#sk-container-id-1 div.sk-estimator:hover label.sk-toggleable__label-arrow:before {color: black;}#sk-container-id-1 div.sk-toggleable__content {max-height: 0;max-width: 0;overflow: hidden;text-align: left;background-color: #f0f8ff;}#sk-container-id-1 div.sk-toggleable__content pre {margin: 0.2em;color: black;border-radius: 0.25em;background-color: #f0f8ff;}#sk-container-id-1 input.sk-toggleable__control:checked~div.sk-toggleable__content {max-height: 200px;max-width: 100%;overflow: auto;}#sk-container-id-1 input.sk-toggleable__control:checked~label.sk-toggleable__label-arrow:before {content: \"▾\";}#sk-container-id-1 div.sk-estimator input.sk-toggleable__control:checked~label.sk-toggleable__label {background-color: #d4ebff;}#sk-container-id-1 div.sk-label input.sk-toggleable__control:checked~label.sk-toggleable__label {background-color: #d4ebff;}#sk-container-id-1 input.sk-hidden--visually {border: 0;clip: rect(1px 1px 1px 1px);clip: rect(1px, 1px, 1px, 1px);height: 1px;margin: -1px;overflow: hidden;padding: 0;position: absolute;width: 1px;}#sk-container-id-1 div.sk-estimator {font-family: monospace;background-color: #f0f8ff;border: 1px dotted black;border-radius: 0.25em;box-sizing: border-box;margin-bottom: 0.5em;}#sk-container-id-1 div.sk-estimator:hover {background-color: #d4ebff;}#sk-container-id-1 div.sk-parallel-item::after {content: \"\";width: 100%;border-bottom: 1px solid gray;flex-grow: 1;}#sk-container-id-1 div.sk-label:hover label.sk-toggleable__label {background-color: #d4ebff;}#sk-container-id-1 div.sk-serial::before {content: \"\";position: absolute;border-left: 1px solid gray;box-sizing: border-box;top: 0;bottom: 0;left: 50%;z-index: 0;}#sk-container-id-1 div.sk-serial {display: flex;flex-direction: column;align-items: center;background-color: white;padding-right: 0.2em;padding-left: 0.2em;position: relative;}#sk-container-id-1 div.sk-item {position: relative;z-index: 1;}#sk-container-id-1 div.sk-parallel {display: flex;align-items: stretch;justify-content: center;background-color: white;position: relative;}#sk-container-id-1 div.sk-item::before, #sk-container-id-1 div.sk-parallel-item::before {content: \"\";position: absolute;border-left: 1px solid gray;box-sizing: border-box;top: 0;bottom: 0;left: 50%;z-index: -1;}#sk-container-id-1 div.sk-parallel-item {display: flex;flex-direction: column;z-index: 1;position: relative;background-color: white;}#sk-container-id-1 div.sk-parallel-item:first-child::after {align-self: flex-end;width: 50%;}#sk-container-id-1 div.sk-parallel-item:last-child::after {align-self: flex-start;width: 50%;}#sk-container-id-1 div.sk-parallel-item:only-child::after {width: 0;}#sk-container-id-1 div.sk-dashed-wrapped {border: 1px dashed gray;margin: 0 0.4em 0.5em 0.4em;box-sizing: border-box;padding-bottom: 0.4em;background-color: white;}#sk-container-id-1 div.sk-label label {font-family: monospace;font-weight: bold;display: inline-block;line-height: 1.2em;}#sk-container-id-1 div.sk-label-container {text-align: center;}#sk-container-id-1 div.sk-container {/* jupyter's `normalize.less` sets `[hidden] { display: none; }` but bootstrap.min.css set `[hidden] { display: none !important; }` so we also need the `!important` here to be able to override the default hidden behavior on the sphinx rendered scikit-learn.org. See: https://github.com/scikit-learn/scikit-learn/issues/21755 */display: inline-block !important;position: relative;}#sk-container-id-1 div.sk-text-repr-fallback {display: none;}</style><div id=\"sk-container-id-1\" class=\"sk-top-container\"><div class=\"sk-text-repr-fallback\"><pre>GaussianNB()</pre><b>In a Jupyter environment, please rerun this cell to show the HTML representation or trust the notebook. <br />On GitHub, the HTML representation is unable to render, please try loading this page with nbviewer.org.</b></div><div class=\"sk-container\" hidden><div class=\"sk-item\"><div class=\"sk-estimator sk-toggleable\"><input class=\"sk-toggleable__control sk-hidden--visually\" id=\"sk-estimator-id-1\" type=\"checkbox\" checked><label for=\"sk-estimator-id-1\" class=\"sk-toggleable__label sk-toggleable__label-arrow\">GaussianNB</label><div class=\"sk-toggleable__content\"><pre>GaussianNB()</pre></div></div></div></div></div>"
      ],
      "text/plain": [
       "GaussianNB()"
      ]
     },
     "execution_count": 36,
     "metadata": {},
     "output_type": "execute_result"
    }
   ],
   "source": [
    "gnb.fit(x_train,y_train)"
   ]
  },
  {
   "cell_type": "code",
   "execution_count": 37,
   "id": "c9ce5809-5a91-4dde-9b16-86015c3889ed",
   "metadata": {},
   "outputs": [],
   "source": [
    "y_pred=gnb.predict(x_test)"
   ]
  },
  {
   "cell_type": "code",
   "execution_count": 38,
   "id": "5b377651-3e47-4332-b9b0-efb0b5e11769",
   "metadata": {},
   "outputs": [],
   "source": [
    "from sklearn.metrics import accuracy_score"
   ]
  },
  {
   "cell_type": "code",
   "execution_count": 40,
   "id": "eaa64b8b-63de-41fe-98d4-8efbd8b757f2",
   "metadata": {},
   "outputs": [
    {
     "data": {
      "text/plain": [
       "67.109634551495"
      ]
     },
     "execution_count": 40,
     "metadata": {},
     "output_type": "execute_result"
    }
   ],
   "source": [
    "accuracy_score(y_test,y_pred)*100"
   ]
  },
  {
   "cell_type": "code",
   "execution_count": 42,
   "id": "09e002cb-ba76-4e3e-945e-67cf60e27942",
   "metadata": {},
   "outputs": [],
   "source": [
    "## lets do hyperparameter tuning\n",
    "parameter = {\"var_smoothing\": [1e-9,0.1, 0.001, 0.5,0.05,0.01,1e-8,1e-7,1e-6,1e-10,1e-11]}"
   ]
  },
  {
   "cell_type": "code",
   "execution_count": 43,
   "id": "41f075bd-b869-463c-a004-6e728b661c95",
   "metadata": {},
   "outputs": [],
   "source": [
    "from sklearn.model_selection import GridSearchCV"
   ]
  },
  {
   "cell_type": "code",
   "execution_count": 44,
   "id": "128b2077-d514-409a-bfe6-3913889bf644",
   "metadata": {},
   "outputs": [],
   "source": [
    "gsc=GridSearchCV(gnb,param_grid=parameter,cv=5,verbose=3)"
   ]
  },
  {
   "cell_type": "code",
   "execution_count": 45,
   "id": "2ddf9aa7-18a1-4019-9be4-9a4ba15d2df1",
   "metadata": {},
   "outputs": [
    {
     "name": "stdout",
     "output_type": "stream",
     "text": [
      "Fitting 5 folds for each of 11 candidates, totalling 55 fits\n",
      "[CV 1/5] END ...............var_smoothing=1e-09;, score=0.329 total time=   0.0s\n",
      "[CV 2/5] END ...............var_smoothing=1e-09;, score=0.736 total time=   0.0s\n",
      "[CV 3/5] END ...............var_smoothing=1e-09;, score=0.693 total time=   0.0s\n",
      "[CV 4/5] END ...............var_smoothing=1e-09;, score=0.686 total time=   0.0s\n",
      "[CV 5/5] END ...............var_smoothing=1e-09;, score=0.686 total time=   0.0s\n",
      "[CV 1/5] END .................var_smoothing=0.1;, score=0.364 total time=   0.0s\n",
      "[CV 2/5] END .................var_smoothing=0.1;, score=0.764 total time=   0.0s\n",
      "[CV 3/5] END .................var_smoothing=0.1;, score=0.721 total time=   0.0s\n",
      "[CV 4/5] END .................var_smoothing=0.1;, score=0.679 total time=   0.0s\n",
      "[CV 5/5] END .................var_smoothing=0.1;, score=0.714 total time=   0.0s\n",
      "[CV 1/5] END ...............var_smoothing=0.001;, score=0.329 total time=   0.0s\n",
      "[CV 2/5] END ...............var_smoothing=0.001;, score=0.736 total time=   0.0s\n",
      "[CV 3/5] END ...............var_smoothing=0.001;, score=0.693 total time=   0.0s\n",
      "[CV 4/5] END ...............var_smoothing=0.001;, score=0.686 total time=   0.0s\n",
      "[CV 5/5] END ...............var_smoothing=0.001;, score=0.686 total time=   0.0s\n",
      "[CV 1/5] END .................var_smoothing=0.5;, score=0.714 total time=   0.0s\n",
      "[CV 2/5] END .................var_smoothing=0.5;, score=0.764 total time=   0.0s\n",
      "[CV 3/5] END .................var_smoothing=0.5;, score=0.793 total time=   0.0s\n",
      "[CV 4/5] END .................var_smoothing=0.5;, score=0.707 total time=   0.0s\n",
      "[CV 5/5] END .................var_smoothing=0.5;, score=0.757 total time=   0.0s\n",
      "[CV 1/5] END ................var_smoothing=0.05;, score=0.343 total time=   0.0s\n",
      "[CV 2/5] END ................var_smoothing=0.05;, score=0.736 total time=   0.0s\n",
      "[CV 3/5] END ................var_smoothing=0.05;, score=0.721 total time=   0.0s\n",
      "[CV 4/5] END ................var_smoothing=0.05;, score=0.686 total time=   0.0s\n",
      "[CV 5/5] END ................var_smoothing=0.05;, score=0.693 total time=   0.0s\n",
      "[CV 1/5] END ................var_smoothing=0.01;, score=0.336 total time=   0.0s\n",
      "[CV 2/5] END ................var_smoothing=0.01;, score=0.743 total time=   0.0s\n",
      "[CV 3/5] END ................var_smoothing=0.01;, score=0.693 total time=   0.0s\n",
      "[CV 4/5] END ................var_smoothing=0.01;, score=0.679 total time=   0.0s\n",
      "[CV 5/5] END ................var_smoothing=0.01;, score=0.693 total time=   0.0s\n",
      "[CV 1/5] END ...............var_smoothing=1e-08;, score=0.329 total time=   0.0s\n",
      "[CV 2/5] END ...............var_smoothing=1e-08;, score=0.736 total time=   0.0s\n",
      "[CV 3/5] END ...............var_smoothing=1e-08;, score=0.693 total time=   0.0s\n",
      "[CV 4/5] END ...............var_smoothing=1e-08;, score=0.686 total time=   0.0s\n",
      "[CV 5/5] END ...............var_smoothing=1e-08;, score=0.686 total time=   0.0s\n",
      "[CV 1/5] END ...............var_smoothing=1e-07;, score=0.329 total time=   0.0s\n",
      "[CV 2/5] END ...............var_smoothing=1e-07;, score=0.736 total time=   0.0s\n",
      "[CV 3/5] END ...............var_smoothing=1e-07;, score=0.693 total time=   0.0s\n",
      "[CV 4/5] END ...............var_smoothing=1e-07;, score=0.686 total time=   0.0s\n",
      "[CV 5/5] END ...............var_smoothing=1e-07;, score=0.686 total time=   0.0s\n",
      "[CV 1/5] END ...............var_smoothing=1e-06;, score=0.329 total time=   0.0s\n",
      "[CV 2/5] END ...............var_smoothing=1e-06;, score=0.736 total time=   0.0s\n",
      "[CV 3/5] END ...............var_smoothing=1e-06;, score=0.693 total time=   0.0s\n",
      "[CV 4/5] END ...............var_smoothing=1e-06;, score=0.686 total time=   0.0s\n",
      "[CV 5/5] END ...............var_smoothing=1e-06;, score=0.686 total time=   0.0s\n",
      "[CV 1/5] END ...............var_smoothing=1e-10;, score=0.329 total time=   0.0s\n",
      "[CV 2/5] END ...............var_smoothing=1e-10;, score=0.736 total time=   0.0s\n",
      "[CV 3/5] END ...............var_smoothing=1e-10;, score=0.693 total time=   0.0s\n",
      "[CV 4/5] END ...............var_smoothing=1e-10;, score=0.686 total time=   0.0s\n",
      "[CV 5/5] END ...............var_smoothing=1e-10;, score=0.686 total time=   0.0s\n",
      "[CV 1/5] END ...............var_smoothing=1e-11;, score=0.329 total time=   0.0s\n",
      "[CV 2/5] END ...............var_smoothing=1e-11;, score=0.736 total time=   0.0s\n",
      "[CV 3/5] END ...............var_smoothing=1e-11;, score=0.693 total time=   0.0s\n",
      "[CV 4/5] END ...............var_smoothing=1e-11;, score=0.686 total time=   0.0s\n",
      "[CV 5/5] END ...............var_smoothing=1e-11;, score=0.686 total time=   0.0s\n"
     ]
    },
    {
     "data": {
      "text/html": [
       "<style>#sk-container-id-2 {color: black;background-color: white;}#sk-container-id-2 pre{padding: 0;}#sk-container-id-2 div.sk-toggleable {background-color: white;}#sk-container-id-2 label.sk-toggleable__label {cursor: pointer;display: block;width: 100%;margin-bottom: 0;padding: 0.3em;box-sizing: border-box;text-align: center;}#sk-container-id-2 label.sk-toggleable__label-arrow:before {content: \"▸\";float: left;margin-right: 0.25em;color: #696969;}#sk-container-id-2 label.sk-toggleable__label-arrow:hover:before {color: black;}#sk-container-id-2 div.sk-estimator:hover label.sk-toggleable__label-arrow:before {color: black;}#sk-container-id-2 div.sk-toggleable__content {max-height: 0;max-width: 0;overflow: hidden;text-align: left;background-color: #f0f8ff;}#sk-container-id-2 div.sk-toggleable__content pre {margin: 0.2em;color: black;border-radius: 0.25em;background-color: #f0f8ff;}#sk-container-id-2 input.sk-toggleable__control:checked~div.sk-toggleable__content {max-height: 200px;max-width: 100%;overflow: auto;}#sk-container-id-2 input.sk-toggleable__control:checked~label.sk-toggleable__label-arrow:before {content: \"▾\";}#sk-container-id-2 div.sk-estimator input.sk-toggleable__control:checked~label.sk-toggleable__label {background-color: #d4ebff;}#sk-container-id-2 div.sk-label input.sk-toggleable__control:checked~label.sk-toggleable__label {background-color: #d4ebff;}#sk-container-id-2 input.sk-hidden--visually {border: 0;clip: rect(1px 1px 1px 1px);clip: rect(1px, 1px, 1px, 1px);height: 1px;margin: -1px;overflow: hidden;padding: 0;position: absolute;width: 1px;}#sk-container-id-2 div.sk-estimator {font-family: monospace;background-color: #f0f8ff;border: 1px dotted black;border-radius: 0.25em;box-sizing: border-box;margin-bottom: 0.5em;}#sk-container-id-2 div.sk-estimator:hover {background-color: #d4ebff;}#sk-container-id-2 div.sk-parallel-item::after {content: \"\";width: 100%;border-bottom: 1px solid gray;flex-grow: 1;}#sk-container-id-2 div.sk-label:hover label.sk-toggleable__label {background-color: #d4ebff;}#sk-container-id-2 div.sk-serial::before {content: \"\";position: absolute;border-left: 1px solid gray;box-sizing: border-box;top: 0;bottom: 0;left: 50%;z-index: 0;}#sk-container-id-2 div.sk-serial {display: flex;flex-direction: column;align-items: center;background-color: white;padding-right: 0.2em;padding-left: 0.2em;position: relative;}#sk-container-id-2 div.sk-item {position: relative;z-index: 1;}#sk-container-id-2 div.sk-parallel {display: flex;align-items: stretch;justify-content: center;background-color: white;position: relative;}#sk-container-id-2 div.sk-item::before, #sk-container-id-2 div.sk-parallel-item::before {content: \"\";position: absolute;border-left: 1px solid gray;box-sizing: border-box;top: 0;bottom: 0;left: 50%;z-index: -1;}#sk-container-id-2 div.sk-parallel-item {display: flex;flex-direction: column;z-index: 1;position: relative;background-color: white;}#sk-container-id-2 div.sk-parallel-item:first-child::after {align-self: flex-end;width: 50%;}#sk-container-id-2 div.sk-parallel-item:last-child::after {align-self: flex-start;width: 50%;}#sk-container-id-2 div.sk-parallel-item:only-child::after {width: 0;}#sk-container-id-2 div.sk-dashed-wrapped {border: 1px dashed gray;margin: 0 0.4em 0.5em 0.4em;box-sizing: border-box;padding-bottom: 0.4em;background-color: white;}#sk-container-id-2 div.sk-label label {font-family: monospace;font-weight: bold;display: inline-block;line-height: 1.2em;}#sk-container-id-2 div.sk-label-container {text-align: center;}#sk-container-id-2 div.sk-container {/* jupyter's `normalize.less` sets `[hidden] { display: none; }` but bootstrap.min.css set `[hidden] { display: none !important; }` so we also need the `!important` here to be able to override the default hidden behavior on the sphinx rendered scikit-learn.org. See: https://github.com/scikit-learn/scikit-learn/issues/21755 */display: inline-block !important;position: relative;}#sk-container-id-2 div.sk-text-repr-fallback {display: none;}</style><div id=\"sk-container-id-2\" class=\"sk-top-container\"><div class=\"sk-text-repr-fallback\"><pre>GridSearchCV(cv=5, estimator=GaussianNB(),\n",
       "             param_grid={&#x27;var_smoothing&#x27;: [1e-09, 0.1, 0.001, 0.5, 0.05, 0.01,\n",
       "                                           1e-08, 1e-07, 1e-06, 1e-10, 1e-11]},\n",
       "             verbose=3)</pre><b>In a Jupyter environment, please rerun this cell to show the HTML representation or trust the notebook. <br />On GitHub, the HTML representation is unable to render, please try loading this page with nbviewer.org.</b></div><div class=\"sk-container\" hidden><div class=\"sk-item sk-dashed-wrapped\"><div class=\"sk-label-container\"><div class=\"sk-label sk-toggleable\"><input class=\"sk-toggleable__control sk-hidden--visually\" id=\"sk-estimator-id-2\" type=\"checkbox\" ><label for=\"sk-estimator-id-2\" class=\"sk-toggleable__label sk-toggleable__label-arrow\">GridSearchCV</label><div class=\"sk-toggleable__content\"><pre>GridSearchCV(cv=5, estimator=GaussianNB(),\n",
       "             param_grid={&#x27;var_smoothing&#x27;: [1e-09, 0.1, 0.001, 0.5, 0.05, 0.01,\n",
       "                                           1e-08, 1e-07, 1e-06, 1e-10, 1e-11]},\n",
       "             verbose=3)</pre></div></div></div><div class=\"sk-parallel\"><div class=\"sk-parallel-item\"><div class=\"sk-item\"><div class=\"sk-label-container\"><div class=\"sk-label sk-toggleable\"><input class=\"sk-toggleable__control sk-hidden--visually\" id=\"sk-estimator-id-3\" type=\"checkbox\" ><label for=\"sk-estimator-id-3\" class=\"sk-toggleable__label sk-toggleable__label-arrow\">estimator: GaussianNB</label><div class=\"sk-toggleable__content\"><pre>GaussianNB()</pre></div></div></div><div class=\"sk-serial\"><div class=\"sk-item\"><div class=\"sk-estimator sk-toggleable\"><input class=\"sk-toggleable__control sk-hidden--visually\" id=\"sk-estimator-id-4\" type=\"checkbox\" ><label for=\"sk-estimator-id-4\" class=\"sk-toggleable__label sk-toggleable__label-arrow\">GaussianNB</label><div class=\"sk-toggleable__content\"><pre>GaussianNB()</pre></div></div></div></div></div></div></div></div></div></div>"
      ],
      "text/plain": [
       "GridSearchCV(cv=5, estimator=GaussianNB(),\n",
       "             param_grid={'var_smoothing': [1e-09, 0.1, 0.001, 0.5, 0.05, 0.01,\n",
       "                                           1e-08, 1e-07, 1e-06, 1e-10, 1e-11]},\n",
       "             verbose=3)"
      ]
     },
     "execution_count": 45,
     "metadata": {},
     "output_type": "execute_result"
    }
   ],
   "source": [
    "gsc.fit(x_train,y_train)"
   ]
  },
  {
   "cell_type": "code",
   "execution_count": 46,
   "id": "8e37bad4-327f-440a-b574-ca5f6e4f6691",
   "metadata": {},
   "outputs": [
    {
     "data": {
      "text/plain": [
       "{'var_smoothing': 0.5}"
      ]
     },
     "execution_count": 46,
     "metadata": {},
     "output_type": "execute_result"
    }
   ],
   "source": [
    "gsc.best_params_"
   ]
  },
  {
   "cell_type": "code",
   "execution_count": 47,
   "id": "2e87ccc9-4ea9-4b4c-8943-247ac206121c",
   "metadata": {},
   "outputs": [
    {
     "data": {
      "text/plain": [
       "0.7471428571428571"
      ]
     },
     "execution_count": 47,
     "metadata": {},
     "output_type": "execute_result"
    }
   ],
   "source": [
    "gsc.best_score_"
   ]
  },
  {
   "cell_type": "code",
   "execution_count": 48,
   "id": "60a973ae-e3cf-4fdd-88ff-50ab3eed6ec6",
   "metadata": {},
   "outputs": [],
   "source": [
    "## lets use these parameters in our gnb\n",
    "gnb2=GaussianNB(var_smoothing=0.5)"
   ]
  },
  {
   "cell_type": "code",
   "execution_count": 49,
   "id": "96dc4154-9ea7-4574-ac26-ba4172c647d5",
   "metadata": {},
   "outputs": [
    {
     "data": {
      "text/html": [
       "<style>#sk-container-id-3 {color: black;background-color: white;}#sk-container-id-3 pre{padding: 0;}#sk-container-id-3 div.sk-toggleable {background-color: white;}#sk-container-id-3 label.sk-toggleable__label {cursor: pointer;display: block;width: 100%;margin-bottom: 0;padding: 0.3em;box-sizing: border-box;text-align: center;}#sk-container-id-3 label.sk-toggleable__label-arrow:before {content: \"▸\";float: left;margin-right: 0.25em;color: #696969;}#sk-container-id-3 label.sk-toggleable__label-arrow:hover:before {color: black;}#sk-container-id-3 div.sk-estimator:hover label.sk-toggleable__label-arrow:before {color: black;}#sk-container-id-3 div.sk-toggleable__content {max-height: 0;max-width: 0;overflow: hidden;text-align: left;background-color: #f0f8ff;}#sk-container-id-3 div.sk-toggleable__content pre {margin: 0.2em;color: black;border-radius: 0.25em;background-color: #f0f8ff;}#sk-container-id-3 input.sk-toggleable__control:checked~div.sk-toggleable__content {max-height: 200px;max-width: 100%;overflow: auto;}#sk-container-id-3 input.sk-toggleable__control:checked~label.sk-toggleable__label-arrow:before {content: \"▾\";}#sk-container-id-3 div.sk-estimator input.sk-toggleable__control:checked~label.sk-toggleable__label {background-color: #d4ebff;}#sk-container-id-3 div.sk-label input.sk-toggleable__control:checked~label.sk-toggleable__label {background-color: #d4ebff;}#sk-container-id-3 input.sk-hidden--visually {border: 0;clip: rect(1px 1px 1px 1px);clip: rect(1px, 1px, 1px, 1px);height: 1px;margin: -1px;overflow: hidden;padding: 0;position: absolute;width: 1px;}#sk-container-id-3 div.sk-estimator {font-family: monospace;background-color: #f0f8ff;border: 1px dotted black;border-radius: 0.25em;box-sizing: border-box;margin-bottom: 0.5em;}#sk-container-id-3 div.sk-estimator:hover {background-color: #d4ebff;}#sk-container-id-3 div.sk-parallel-item::after {content: \"\";width: 100%;border-bottom: 1px solid gray;flex-grow: 1;}#sk-container-id-3 div.sk-label:hover label.sk-toggleable__label {background-color: #d4ebff;}#sk-container-id-3 div.sk-serial::before {content: \"\";position: absolute;border-left: 1px solid gray;box-sizing: border-box;top: 0;bottom: 0;left: 50%;z-index: 0;}#sk-container-id-3 div.sk-serial {display: flex;flex-direction: column;align-items: center;background-color: white;padding-right: 0.2em;padding-left: 0.2em;position: relative;}#sk-container-id-3 div.sk-item {position: relative;z-index: 1;}#sk-container-id-3 div.sk-parallel {display: flex;align-items: stretch;justify-content: center;background-color: white;position: relative;}#sk-container-id-3 div.sk-item::before, #sk-container-id-3 div.sk-parallel-item::before {content: \"\";position: absolute;border-left: 1px solid gray;box-sizing: border-box;top: 0;bottom: 0;left: 50%;z-index: -1;}#sk-container-id-3 div.sk-parallel-item {display: flex;flex-direction: column;z-index: 1;position: relative;background-color: white;}#sk-container-id-3 div.sk-parallel-item:first-child::after {align-self: flex-end;width: 50%;}#sk-container-id-3 div.sk-parallel-item:last-child::after {align-self: flex-start;width: 50%;}#sk-container-id-3 div.sk-parallel-item:only-child::after {width: 0;}#sk-container-id-3 div.sk-dashed-wrapped {border: 1px dashed gray;margin: 0 0.4em 0.5em 0.4em;box-sizing: border-box;padding-bottom: 0.4em;background-color: white;}#sk-container-id-3 div.sk-label label {font-family: monospace;font-weight: bold;display: inline-block;line-height: 1.2em;}#sk-container-id-3 div.sk-label-container {text-align: center;}#sk-container-id-3 div.sk-container {/* jupyter's `normalize.less` sets `[hidden] { display: none; }` but bootstrap.min.css set `[hidden] { display: none !important; }` so we also need the `!important` here to be able to override the default hidden behavior on the sphinx rendered scikit-learn.org. See: https://github.com/scikit-learn/scikit-learn/issues/21755 */display: inline-block !important;position: relative;}#sk-container-id-3 div.sk-text-repr-fallback {display: none;}</style><div id=\"sk-container-id-3\" class=\"sk-top-container\"><div class=\"sk-text-repr-fallback\"><pre>GaussianNB(var_smoothing=0.5)</pre><b>In a Jupyter environment, please rerun this cell to show the HTML representation or trust the notebook. <br />On GitHub, the HTML representation is unable to render, please try loading this page with nbviewer.org.</b></div><div class=\"sk-container\" hidden><div class=\"sk-item\"><div class=\"sk-estimator sk-toggleable\"><input class=\"sk-toggleable__control sk-hidden--visually\" id=\"sk-estimator-id-5\" type=\"checkbox\" checked><label for=\"sk-estimator-id-5\" class=\"sk-toggleable__label sk-toggleable__label-arrow\">GaussianNB</label><div class=\"sk-toggleable__content\"><pre>GaussianNB(var_smoothing=0.5)</pre></div></div></div></div></div>"
      ],
      "text/plain": [
       "GaussianNB(var_smoothing=0.5)"
      ]
     },
     "execution_count": 49,
     "metadata": {},
     "output_type": "execute_result"
    }
   ],
   "source": [
    "gnb2.fit(x_train,y_train)"
   ]
  },
  {
   "cell_type": "code",
   "execution_count": 50,
   "id": "461b8655-a7c6-4e5c-9c7c-08f9c59eaff3",
   "metadata": {},
   "outputs": [],
   "source": [
    "y_pred2=gnb2.predict(x_test)"
   ]
  },
  {
   "cell_type": "code",
   "execution_count": 51,
   "id": "7f17cf49-fd49-4561-a093-3def5afaaa80",
   "metadata": {},
   "outputs": [
    {
     "data": {
      "text/plain": [
       "0.8039867109634552"
      ]
     },
     "execution_count": 51,
     "metadata": {},
     "output_type": "execute_result"
    }
   ],
   "source": [
    "accuracy_score(y_test,y_pred2)"
   ]
  },
  {
   "cell_type": "code",
   "execution_count": 52,
   "id": "0b69d77c-f326-41d0-b4ec-b46c164c835a",
   "metadata": {},
   "outputs": [],
   "source": [
    "## lets use random forest classifier\n",
    "from sklearn.ensemble import RandomForestClassifier"
   ]
  },
  {
   "cell_type": "code",
   "execution_count": 53,
   "id": "4da79d4e-d9d1-48e3-ae18-86000f2761dd",
   "metadata": {},
   "outputs": [],
   "source": [
    "rfc=RandomForestClassifier()"
   ]
  },
  {
   "cell_type": "code",
   "execution_count": 56,
   "id": "dbfcbf1f-ae87-42ec-a373-e56843bf4cbf",
   "metadata": {},
   "outputs": [],
   "source": [
    "parameter2={'max_depth':[3,5,10,None],\n",
    "          'n_estimators':[100,200,300],\n",
    "          'criterion':['gini','entropy']}"
   ]
  },
  {
   "cell_type": "code",
   "execution_count": 57,
   "id": "5d68603e-8b59-488f-b08f-24e8787488e5",
   "metadata": {},
   "outputs": [],
   "source": [
    "gsc=GridSearchCV(rfc,param_grid=parameter2,cv=5,verbose=3)"
   ]
  },
  {
   "cell_type": "code",
   "execution_count": 59,
   "id": "18c4ab89-c320-4e4b-a6f5-29c063b5bb27",
   "metadata": {},
   "outputs": [
    {
     "name": "stdout",
     "output_type": "stream",
     "text": [
      "Fitting 5 folds for each of 24 candidates, totalling 120 fits\n",
      "[CV 1/5] END criterion=gini, max_depth=3, n_estimators=100;, score=0.757 total time=   0.2s\n",
      "[CV 2/5] END criterion=gini, max_depth=3, n_estimators=100;, score=0.757 total time=   0.2s\n",
      "[CV 3/5] END criterion=gini, max_depth=3, n_estimators=100;, score=0.779 total time=   0.2s\n",
      "[CV 4/5] END criterion=gini, max_depth=3, n_estimators=100;, score=0.779 total time=   0.2s\n",
      "[CV 5/5] END criterion=gini, max_depth=3, n_estimators=100;, score=0.764 total time=   0.2s\n",
      "[CV 1/5] END criterion=gini, max_depth=3, n_estimators=200;, score=0.757 total time=   0.4s\n",
      "[CV 2/5] END criterion=gini, max_depth=3, n_estimators=200;, score=0.757 total time=   0.4s\n",
      "[CV 3/5] END criterion=gini, max_depth=3, n_estimators=200;, score=0.786 total time=   0.4s\n",
      "[CV 4/5] END criterion=gini, max_depth=3, n_estimators=200;, score=0.786 total time=   0.4s\n",
      "[CV 5/5] END criterion=gini, max_depth=3, n_estimators=200;, score=0.764 total time=   0.4s\n",
      "[CV 1/5] END criterion=gini, max_depth=3, n_estimators=300;, score=0.757 total time=   0.7s\n",
      "[CV 2/5] END criterion=gini, max_depth=3, n_estimators=300;, score=0.757 total time=   0.7s\n",
      "[CV 3/5] END criterion=gini, max_depth=3, n_estimators=300;, score=0.793 total time=   0.7s\n",
      "[CV 4/5] END criterion=gini, max_depth=3, n_estimators=300;, score=0.800 total time=   0.7s\n",
      "[CV 5/5] END criterion=gini, max_depth=3, n_estimators=300;, score=0.764 total time=   0.7s\n",
      "[CV 1/5] END criterion=gini, max_depth=5, n_estimators=100;, score=0.764 total time=   0.2s\n",
      "[CV 2/5] END criterion=gini, max_depth=5, n_estimators=100;, score=0.764 total time=   0.2s\n",
      "[CV 3/5] END criterion=gini, max_depth=5, n_estimators=100;, score=0.786 total time=   0.2s\n",
      "[CV 4/5] END criterion=gini, max_depth=5, n_estimators=100;, score=0.779 total time=   0.2s\n",
      "[CV 5/5] END criterion=gini, max_depth=5, n_estimators=100;, score=0.757 total time=   0.2s\n",
      "[CV 1/5] END criterion=gini, max_depth=5, n_estimators=200;, score=0.771 total time=   0.5s\n",
      "[CV 2/5] END criterion=gini, max_depth=5, n_estimators=200;, score=0.757 total time=   0.5s\n",
      "[CV 3/5] END criterion=gini, max_depth=5, n_estimators=200;, score=0.779 total time=   0.5s\n",
      "[CV 4/5] END criterion=gini, max_depth=5, n_estimators=200;, score=0.757 total time=   0.5s\n",
      "[CV 5/5] END criterion=gini, max_depth=5, n_estimators=200;, score=0.757 total time=   0.5s\n",
      "[CV 1/5] END criterion=gini, max_depth=5, n_estimators=300;, score=0.771 total time=   0.7s\n",
      "[CV 2/5] END criterion=gini, max_depth=5, n_estimators=300;, score=0.757 total time=   0.7s\n",
      "[CV 3/5] END criterion=gini, max_depth=5, n_estimators=300;, score=0.800 total time=   0.7s\n",
      "[CV 4/5] END criterion=gini, max_depth=5, n_estimators=300;, score=0.786 total time=   0.7s\n",
      "[CV 5/5] END criterion=gini, max_depth=5, n_estimators=300;, score=0.764 total time=   0.7s\n",
      "[CV 1/5] END criterion=gini, max_depth=10, n_estimators=100;, score=0.779 total time=   0.3s\n",
      "[CV 2/5] END criterion=gini, max_depth=10, n_estimators=100;, score=0.793 total time=   0.3s\n",
      "[CV 3/5] END criterion=gini, max_depth=10, n_estimators=100;, score=0.793 total time=   0.3s\n",
      "[CV 4/5] END criterion=gini, max_depth=10, n_estimators=100;, score=0.771 total time=   0.3s\n",
      "[CV 5/5] END criterion=gini, max_depth=10, n_estimators=100;, score=0.736 total time=   0.3s\n",
      "[CV 1/5] END criterion=gini, max_depth=10, n_estimators=200;, score=0.786 total time=   0.6s\n",
      "[CV 2/5] END criterion=gini, max_depth=10, n_estimators=200;, score=0.771 total time=   0.6s\n",
      "[CV 3/5] END criterion=gini, max_depth=10, n_estimators=200;, score=0.807 total time=   0.6s\n",
      "[CV 4/5] END criterion=gini, max_depth=10, n_estimators=200;, score=0.779 total time=   0.6s\n",
      "[CV 5/5] END criterion=gini, max_depth=10, n_estimators=200;, score=0.750 total time=   0.6s\n",
      "[CV 1/5] END criterion=gini, max_depth=10, n_estimators=300;, score=0.786 total time=   0.8s\n",
      "[CV 2/5] END criterion=gini, max_depth=10, n_estimators=300;, score=0.771 total time=   0.8s\n",
      "[CV 3/5] END criterion=gini, max_depth=10, n_estimators=300;, score=0.779 total time=   0.8s\n",
      "[CV 4/5] END criterion=gini, max_depth=10, n_estimators=300;, score=0.764 total time=   0.8s\n",
      "[CV 5/5] END criterion=gini, max_depth=10, n_estimators=300;, score=0.736 total time=   0.8s\n",
      "[CV 1/5] END criterion=gini, max_depth=None, n_estimators=100;, score=0.771 total time=   0.3s\n",
      "[CV 2/5] END criterion=gini, max_depth=None, n_estimators=100;, score=0.779 total time=   0.3s\n",
      "[CV 3/5] END criterion=gini, max_depth=None, n_estimators=100;, score=0.786 total time=   0.3s\n",
      "[CV 4/5] END criterion=gini, max_depth=None, n_estimators=100;, score=0.800 total time=   0.3s\n",
      "[CV 5/5] END criterion=gini, max_depth=None, n_estimators=100;, score=0.736 total time=   0.3s\n",
      "[CV 1/5] END criterion=gini, max_depth=None, n_estimators=200;, score=0.779 total time=   0.6s\n",
      "[CV 2/5] END criterion=gini, max_depth=None, n_estimators=200;, score=0.764 total time=   0.6s\n",
      "[CV 3/5] END criterion=gini, max_depth=None, n_estimators=200;, score=0.764 total time=   0.6s\n",
      "[CV 4/5] END criterion=gini, max_depth=None, n_estimators=200;, score=0.771 total time=   0.6s\n",
      "[CV 5/5] END criterion=gini, max_depth=None, n_estimators=200;, score=0.743 total time=   0.6s\n",
      "[CV 1/5] END criterion=gini, max_depth=None, n_estimators=300;, score=0.779 total time=   0.9s\n",
      "[CV 2/5] END criterion=gini, max_depth=None, n_estimators=300;, score=0.771 total time=   0.9s\n",
      "[CV 3/5] END criterion=gini, max_depth=None, n_estimators=300;, score=0.779 total time=   0.9s\n",
      "[CV 4/5] END criterion=gini, max_depth=None, n_estimators=300;, score=0.771 total time=   0.9s\n",
      "[CV 5/5] END criterion=gini, max_depth=None, n_estimators=300;, score=0.736 total time=   0.9s\n",
      "[CV 1/5] END criterion=entropy, max_depth=3, n_estimators=100;, score=0.757 total time=   0.2s\n",
      "[CV 2/5] END criterion=entropy, max_depth=3, n_estimators=100;, score=0.771 total time=   0.2s\n",
      "[CV 3/5] END criterion=entropy, max_depth=3, n_estimators=100;, score=0.814 total time=   0.2s\n",
      "[CV 4/5] END criterion=entropy, max_depth=3, n_estimators=100;, score=0.764 total time=   0.2s\n",
      "[CV 5/5] END criterion=entropy, max_depth=3, n_estimators=100;, score=0.771 total time=   0.2s\n",
      "[CV 1/5] END criterion=entropy, max_depth=3, n_estimators=200;, score=0.757 total time=   0.5s\n",
      "[CV 2/5] END criterion=entropy, max_depth=3, n_estimators=200;, score=0.764 total time=   0.5s\n",
      "[CV 3/5] END criterion=entropy, max_depth=3, n_estimators=200;, score=0.786 total time=   0.5s\n",
      "[CV 4/5] END criterion=entropy, max_depth=3, n_estimators=200;, score=0.793 total time=   0.5s\n",
      "[CV 5/5] END criterion=entropy, max_depth=3, n_estimators=200;, score=0.779 total time=   0.5s\n",
      "[CV 1/5] END criterion=entropy, max_depth=3, n_estimators=300;, score=0.757 total time=   0.7s\n",
      "[CV 2/5] END criterion=entropy, max_depth=3, n_estimators=300;, score=0.764 total time=   0.7s\n",
      "[CV 3/5] END criterion=entropy, max_depth=3, n_estimators=300;, score=0.786 total time=   0.7s\n",
      "[CV 4/5] END criterion=entropy, max_depth=3, n_estimators=300;, score=0.786 total time=   0.7s\n",
      "[CV 5/5] END criterion=entropy, max_depth=3, n_estimators=300;, score=0.771 total time=   0.7s\n",
      "[CV 1/5] END criterion=entropy, max_depth=5, n_estimators=100;, score=0.764 total time=   0.3s\n",
      "[CV 2/5] END criterion=entropy, max_depth=5, n_estimators=100;, score=0.757 total time=   0.3s\n",
      "[CV 3/5] END criterion=entropy, max_depth=5, n_estimators=100;, score=0.764 total time=   0.3s\n",
      "[CV 4/5] END criterion=entropy, max_depth=5, n_estimators=100;, score=0.786 total time=   0.3s\n",
      "[CV 5/5] END criterion=entropy, max_depth=5, n_estimators=100;, score=0.779 total time=   0.3s\n",
      "[CV 1/5] END criterion=entropy, max_depth=5, n_estimators=200;, score=0.757 total time=   0.5s\n",
      "[CV 2/5] END criterion=entropy, max_depth=5, n_estimators=200;, score=0.764 total time=   0.5s\n",
      "[CV 3/5] END criterion=entropy, max_depth=5, n_estimators=200;, score=0.793 total time=   0.5s\n",
      "[CV 4/5] END criterion=entropy, max_depth=5, n_estimators=200;, score=0.786 total time=   0.5s\n",
      "[CV 5/5] END criterion=entropy, max_depth=5, n_estimators=200;, score=0.750 total time=   0.5s\n",
      "[CV 1/5] END criterion=entropy, max_depth=5, n_estimators=300;, score=0.764 total time=   0.8s\n",
      "[CV 2/5] END criterion=entropy, max_depth=5, n_estimators=300;, score=0.771 total time=   0.8s\n",
      "[CV 3/5] END criterion=entropy, max_depth=5, n_estimators=300;, score=0.800 total time=   0.8s\n",
      "[CV 4/5] END criterion=entropy, max_depth=5, n_estimators=300;, score=0.786 total time=   0.8s\n",
      "[CV 5/5] END criterion=entropy, max_depth=5, n_estimators=300;, score=0.750 total time=   0.8s\n",
      "[CV 1/5] END criterion=entropy, max_depth=10, n_estimators=100;, score=0.771 total time=   0.3s\n",
      "[CV 2/5] END criterion=entropy, max_depth=10, n_estimators=100;, score=0.779 total time=   0.3s\n",
      "[CV 3/5] END criterion=entropy, max_depth=10, n_estimators=100;, score=0.793 total time=   0.3s\n",
      "[CV 4/5] END criterion=entropy, max_depth=10, n_estimators=100;, score=0.786 total time=   0.3s\n",
      "[CV 5/5] END criterion=entropy, max_depth=10, n_estimators=100;, score=0.743 total time=   0.3s\n",
      "[CV 1/5] END criterion=entropy, max_depth=10, n_estimators=200;, score=0.771 total time=   0.6s\n",
      "[CV 2/5] END criterion=entropy, max_depth=10, n_estimators=200;, score=0.779 total time=   0.6s\n",
      "[CV 3/5] END criterion=entropy, max_depth=10, n_estimators=200;, score=0.779 total time=   0.6s\n",
      "[CV 4/5] END criterion=entropy, max_depth=10, n_estimators=200;, score=0.764 total time=   0.6s\n",
      "[CV 5/5] END criterion=entropy, max_depth=10, n_estimators=200;, score=0.750 total time=   0.6s\n",
      "[CV 1/5] END criterion=entropy, max_depth=10, n_estimators=300;, score=0.779 total time=   0.9s\n",
      "[CV 2/5] END criterion=entropy, max_depth=10, n_estimators=300;, score=0.786 total time=   1.0s\n",
      "[CV 3/5] END criterion=entropy, max_depth=10, n_estimators=300;, score=0.786 total time=   0.9s\n",
      "[CV 4/5] END criterion=entropy, max_depth=10, n_estimators=300;, score=0.771 total time=   0.9s\n",
      "[CV 5/5] END criterion=entropy, max_depth=10, n_estimators=300;, score=0.743 total time=   0.9s\n",
      "[CV 1/5] END criterion=entropy, max_depth=None, n_estimators=100;, score=0.779 total time=   0.3s\n",
      "[CV 2/5] END criterion=entropy, max_depth=None, n_estimators=100;, score=0.771 total time=   0.3s\n",
      "[CV 3/5] END criterion=entropy, max_depth=None, n_estimators=100;, score=0.800 total time=   0.3s\n",
      "[CV 4/5] END criterion=entropy, max_depth=None, n_estimators=100;, score=0.764 total time=   0.3s\n",
      "[CV 5/5] END criterion=entropy, max_depth=None, n_estimators=100;, score=0.729 total time=   0.3s\n",
      "[CV 1/5] END criterion=entropy, max_depth=None, n_estimators=200;, score=0.771 total time=   0.6s\n",
      "[CV 2/5] END criterion=entropy, max_depth=None, n_estimators=200;, score=0.800 total time=   0.7s\n",
      "[CV 3/5] END criterion=entropy, max_depth=None, n_estimators=200;, score=0.786 total time=   0.7s\n",
      "[CV 4/5] END criterion=entropy, max_depth=None, n_estimators=200;, score=0.757 total time=   0.7s\n",
      "[CV 5/5] END criterion=entropy, max_depth=None, n_estimators=200;, score=0.736 total time=   0.7s\n",
      "[CV 1/5] END criterion=entropy, max_depth=None, n_estimators=300;, score=0.764 total time=   1.0s\n",
      "[CV 2/5] END criterion=entropy, max_depth=None, n_estimators=300;, score=0.779 total time=   1.0s\n",
      "[CV 3/5] END criterion=entropy, max_depth=None, n_estimators=300;, score=0.793 total time=   1.0s\n",
      "[CV 4/5] END criterion=entropy, max_depth=None, n_estimators=300;, score=0.793 total time=   1.0s\n",
      "[CV 5/5] END criterion=entropy, max_depth=None, n_estimators=300;, score=0.736 total time=   1.0s\n"
     ]
    },
    {
     "data": {
      "text/html": [
       "<style>#sk-container-id-4 {color: black;background-color: white;}#sk-container-id-4 pre{padding: 0;}#sk-container-id-4 div.sk-toggleable {background-color: white;}#sk-container-id-4 label.sk-toggleable__label {cursor: pointer;display: block;width: 100%;margin-bottom: 0;padding: 0.3em;box-sizing: border-box;text-align: center;}#sk-container-id-4 label.sk-toggleable__label-arrow:before {content: \"▸\";float: left;margin-right: 0.25em;color: #696969;}#sk-container-id-4 label.sk-toggleable__label-arrow:hover:before {color: black;}#sk-container-id-4 div.sk-estimator:hover label.sk-toggleable__label-arrow:before {color: black;}#sk-container-id-4 div.sk-toggleable__content {max-height: 0;max-width: 0;overflow: hidden;text-align: left;background-color: #f0f8ff;}#sk-container-id-4 div.sk-toggleable__content pre {margin: 0.2em;color: black;border-radius: 0.25em;background-color: #f0f8ff;}#sk-container-id-4 input.sk-toggleable__control:checked~div.sk-toggleable__content {max-height: 200px;max-width: 100%;overflow: auto;}#sk-container-id-4 input.sk-toggleable__control:checked~label.sk-toggleable__label-arrow:before {content: \"▾\";}#sk-container-id-4 div.sk-estimator input.sk-toggleable__control:checked~label.sk-toggleable__label {background-color: #d4ebff;}#sk-container-id-4 div.sk-label input.sk-toggleable__control:checked~label.sk-toggleable__label {background-color: #d4ebff;}#sk-container-id-4 input.sk-hidden--visually {border: 0;clip: rect(1px 1px 1px 1px);clip: rect(1px, 1px, 1px, 1px);height: 1px;margin: -1px;overflow: hidden;padding: 0;position: absolute;width: 1px;}#sk-container-id-4 div.sk-estimator {font-family: monospace;background-color: #f0f8ff;border: 1px dotted black;border-radius: 0.25em;box-sizing: border-box;margin-bottom: 0.5em;}#sk-container-id-4 div.sk-estimator:hover {background-color: #d4ebff;}#sk-container-id-4 div.sk-parallel-item::after {content: \"\";width: 100%;border-bottom: 1px solid gray;flex-grow: 1;}#sk-container-id-4 div.sk-label:hover label.sk-toggleable__label {background-color: #d4ebff;}#sk-container-id-4 div.sk-serial::before {content: \"\";position: absolute;border-left: 1px solid gray;box-sizing: border-box;top: 0;bottom: 0;left: 50%;z-index: 0;}#sk-container-id-4 div.sk-serial {display: flex;flex-direction: column;align-items: center;background-color: white;padding-right: 0.2em;padding-left: 0.2em;position: relative;}#sk-container-id-4 div.sk-item {position: relative;z-index: 1;}#sk-container-id-4 div.sk-parallel {display: flex;align-items: stretch;justify-content: center;background-color: white;position: relative;}#sk-container-id-4 div.sk-item::before, #sk-container-id-4 div.sk-parallel-item::before {content: \"\";position: absolute;border-left: 1px solid gray;box-sizing: border-box;top: 0;bottom: 0;left: 50%;z-index: -1;}#sk-container-id-4 div.sk-parallel-item {display: flex;flex-direction: column;z-index: 1;position: relative;background-color: white;}#sk-container-id-4 div.sk-parallel-item:first-child::after {align-self: flex-end;width: 50%;}#sk-container-id-4 div.sk-parallel-item:last-child::after {align-self: flex-start;width: 50%;}#sk-container-id-4 div.sk-parallel-item:only-child::after {width: 0;}#sk-container-id-4 div.sk-dashed-wrapped {border: 1px dashed gray;margin: 0 0.4em 0.5em 0.4em;box-sizing: border-box;padding-bottom: 0.4em;background-color: white;}#sk-container-id-4 div.sk-label label {font-family: monospace;font-weight: bold;display: inline-block;line-height: 1.2em;}#sk-container-id-4 div.sk-label-container {text-align: center;}#sk-container-id-4 div.sk-container {/* jupyter's `normalize.less` sets `[hidden] { display: none; }` but bootstrap.min.css set `[hidden] { display: none !important; }` so we also need the `!important` here to be able to override the default hidden behavior on the sphinx rendered scikit-learn.org. See: https://github.com/scikit-learn/scikit-learn/issues/21755 */display: inline-block !important;position: relative;}#sk-container-id-4 div.sk-text-repr-fallback {display: none;}</style><div id=\"sk-container-id-4\" class=\"sk-top-container\"><div class=\"sk-text-repr-fallback\"><pre>GridSearchCV(cv=5, estimator=RandomForestClassifier(),\n",
       "             param_grid={&#x27;criterion&#x27;: [&#x27;gini&#x27;, &#x27;entropy&#x27;],\n",
       "                         &#x27;max_depth&#x27;: [3, 5, 10, None],\n",
       "                         &#x27;n_estimators&#x27;: [100, 200, 300]},\n",
       "             verbose=3)</pre><b>In a Jupyter environment, please rerun this cell to show the HTML representation or trust the notebook. <br />On GitHub, the HTML representation is unable to render, please try loading this page with nbviewer.org.</b></div><div class=\"sk-container\" hidden><div class=\"sk-item sk-dashed-wrapped\"><div class=\"sk-label-container\"><div class=\"sk-label sk-toggleable\"><input class=\"sk-toggleable__control sk-hidden--visually\" id=\"sk-estimator-id-6\" type=\"checkbox\" ><label for=\"sk-estimator-id-6\" class=\"sk-toggleable__label sk-toggleable__label-arrow\">GridSearchCV</label><div class=\"sk-toggleable__content\"><pre>GridSearchCV(cv=5, estimator=RandomForestClassifier(),\n",
       "             param_grid={&#x27;criterion&#x27;: [&#x27;gini&#x27;, &#x27;entropy&#x27;],\n",
       "                         &#x27;max_depth&#x27;: [3, 5, 10, None],\n",
       "                         &#x27;n_estimators&#x27;: [100, 200, 300]},\n",
       "             verbose=3)</pre></div></div></div><div class=\"sk-parallel\"><div class=\"sk-parallel-item\"><div class=\"sk-item\"><div class=\"sk-label-container\"><div class=\"sk-label sk-toggleable\"><input class=\"sk-toggleable__control sk-hidden--visually\" id=\"sk-estimator-id-7\" type=\"checkbox\" ><label for=\"sk-estimator-id-7\" class=\"sk-toggleable__label sk-toggleable__label-arrow\">estimator: RandomForestClassifier</label><div class=\"sk-toggleable__content\"><pre>RandomForestClassifier()</pre></div></div></div><div class=\"sk-serial\"><div class=\"sk-item\"><div class=\"sk-estimator sk-toggleable\"><input class=\"sk-toggleable__control sk-hidden--visually\" id=\"sk-estimator-id-8\" type=\"checkbox\" ><label for=\"sk-estimator-id-8\" class=\"sk-toggleable__label sk-toggleable__label-arrow\">RandomForestClassifier</label><div class=\"sk-toggleable__content\"><pre>RandomForestClassifier()</pre></div></div></div></div></div></div></div></div></div></div>"
      ],
      "text/plain": [
       "GridSearchCV(cv=5, estimator=RandomForestClassifier(),\n",
       "             param_grid={'criterion': ['gini', 'entropy'],\n",
       "                         'max_depth': [3, 5, 10, None],\n",
       "                         'n_estimators': [100, 200, 300]},\n",
       "             verbose=3)"
      ]
     },
     "execution_count": 59,
     "metadata": {},
     "output_type": "execute_result"
    }
   ],
   "source": [
    "gsc.fit(x_train,y_train)"
   ]
  },
  {
   "cell_type": "code",
   "execution_count": 60,
   "id": "182f46ef-e9df-4049-bf5c-4a4a02ae9e3d",
   "metadata": {},
   "outputs": [
    {
     "data": {
      "text/plain": [
       "0.7785714285714286"
      ]
     },
     "execution_count": 60,
     "metadata": {},
     "output_type": "execute_result"
    }
   ],
   "source": [
    "gsc.best_score_"
   ]
  },
  {
   "cell_type": "code",
   "execution_count": 61,
   "id": "cfa6fd39-db5e-412b-97cd-10f8111f8279",
   "metadata": {},
   "outputs": [
    {
     "data": {
      "text/plain": [
       "{'criterion': 'gini', 'max_depth': 10, 'n_estimators': 200}"
      ]
     },
     "execution_count": 61,
     "metadata": {},
     "output_type": "execute_result"
    }
   ],
   "source": [
    "gsc.best_params_"
   ]
  },
  {
   "cell_type": "code",
   "execution_count": 62,
   "id": "717253fe-83bf-4067-9b65-1ee502559c74",
   "metadata": {},
   "outputs": [],
   "source": [
    "rfc=RandomForestClassifier(criterion='gini',max_depth=10,n_estimators=200)"
   ]
  },
  {
   "cell_type": "code",
   "execution_count": 63,
   "id": "9a58d8c9-95aa-462a-b785-32b9fa951758",
   "metadata": {},
   "outputs": [
    {
     "data": {
      "text/html": [
       "<style>#sk-container-id-5 {color: black;background-color: white;}#sk-container-id-5 pre{padding: 0;}#sk-container-id-5 div.sk-toggleable {background-color: white;}#sk-container-id-5 label.sk-toggleable__label {cursor: pointer;display: block;width: 100%;margin-bottom: 0;padding: 0.3em;box-sizing: border-box;text-align: center;}#sk-container-id-5 label.sk-toggleable__label-arrow:before {content: \"▸\";float: left;margin-right: 0.25em;color: #696969;}#sk-container-id-5 label.sk-toggleable__label-arrow:hover:before {color: black;}#sk-container-id-5 div.sk-estimator:hover label.sk-toggleable__label-arrow:before {color: black;}#sk-container-id-5 div.sk-toggleable__content {max-height: 0;max-width: 0;overflow: hidden;text-align: left;background-color: #f0f8ff;}#sk-container-id-5 div.sk-toggleable__content pre {margin: 0.2em;color: black;border-radius: 0.25em;background-color: #f0f8ff;}#sk-container-id-5 input.sk-toggleable__control:checked~div.sk-toggleable__content {max-height: 200px;max-width: 100%;overflow: auto;}#sk-container-id-5 input.sk-toggleable__control:checked~label.sk-toggleable__label-arrow:before {content: \"▾\";}#sk-container-id-5 div.sk-estimator input.sk-toggleable__control:checked~label.sk-toggleable__label {background-color: #d4ebff;}#sk-container-id-5 div.sk-label input.sk-toggleable__control:checked~label.sk-toggleable__label {background-color: #d4ebff;}#sk-container-id-5 input.sk-hidden--visually {border: 0;clip: rect(1px 1px 1px 1px);clip: rect(1px, 1px, 1px, 1px);height: 1px;margin: -1px;overflow: hidden;padding: 0;position: absolute;width: 1px;}#sk-container-id-5 div.sk-estimator {font-family: monospace;background-color: #f0f8ff;border: 1px dotted black;border-radius: 0.25em;box-sizing: border-box;margin-bottom: 0.5em;}#sk-container-id-5 div.sk-estimator:hover {background-color: #d4ebff;}#sk-container-id-5 div.sk-parallel-item::after {content: \"\";width: 100%;border-bottom: 1px solid gray;flex-grow: 1;}#sk-container-id-5 div.sk-label:hover label.sk-toggleable__label {background-color: #d4ebff;}#sk-container-id-5 div.sk-serial::before {content: \"\";position: absolute;border-left: 1px solid gray;box-sizing: border-box;top: 0;bottom: 0;left: 50%;z-index: 0;}#sk-container-id-5 div.sk-serial {display: flex;flex-direction: column;align-items: center;background-color: white;padding-right: 0.2em;padding-left: 0.2em;position: relative;}#sk-container-id-5 div.sk-item {position: relative;z-index: 1;}#sk-container-id-5 div.sk-parallel {display: flex;align-items: stretch;justify-content: center;background-color: white;position: relative;}#sk-container-id-5 div.sk-item::before, #sk-container-id-5 div.sk-parallel-item::before {content: \"\";position: absolute;border-left: 1px solid gray;box-sizing: border-box;top: 0;bottom: 0;left: 50%;z-index: -1;}#sk-container-id-5 div.sk-parallel-item {display: flex;flex-direction: column;z-index: 1;position: relative;background-color: white;}#sk-container-id-5 div.sk-parallel-item:first-child::after {align-self: flex-end;width: 50%;}#sk-container-id-5 div.sk-parallel-item:last-child::after {align-self: flex-start;width: 50%;}#sk-container-id-5 div.sk-parallel-item:only-child::after {width: 0;}#sk-container-id-5 div.sk-dashed-wrapped {border: 1px dashed gray;margin: 0 0.4em 0.5em 0.4em;box-sizing: border-box;padding-bottom: 0.4em;background-color: white;}#sk-container-id-5 div.sk-label label {font-family: monospace;font-weight: bold;display: inline-block;line-height: 1.2em;}#sk-container-id-5 div.sk-label-container {text-align: center;}#sk-container-id-5 div.sk-container {/* jupyter's `normalize.less` sets `[hidden] { display: none; }` but bootstrap.min.css set `[hidden] { display: none !important; }` so we also need the `!important` here to be able to override the default hidden behavior on the sphinx rendered scikit-learn.org. See: https://github.com/scikit-learn/scikit-learn/issues/21755 */display: inline-block !important;position: relative;}#sk-container-id-5 div.sk-text-repr-fallback {display: none;}</style><div id=\"sk-container-id-5\" class=\"sk-top-container\"><div class=\"sk-text-repr-fallback\"><pre>RandomForestClassifier(max_depth=10, n_estimators=200)</pre><b>In a Jupyter environment, please rerun this cell to show the HTML representation or trust the notebook. <br />On GitHub, the HTML representation is unable to render, please try loading this page with nbviewer.org.</b></div><div class=\"sk-container\" hidden><div class=\"sk-item\"><div class=\"sk-estimator sk-toggleable\"><input class=\"sk-toggleable__control sk-hidden--visually\" id=\"sk-estimator-id-9\" type=\"checkbox\" checked><label for=\"sk-estimator-id-9\" class=\"sk-toggleable__label sk-toggleable__label-arrow\">RandomForestClassifier</label><div class=\"sk-toggleable__content\"><pre>RandomForestClassifier(max_depth=10, n_estimators=200)</pre></div></div></div></div></div>"
      ],
      "text/plain": [
       "RandomForestClassifier(max_depth=10, n_estimators=200)"
      ]
     },
     "execution_count": 63,
     "metadata": {},
     "output_type": "execute_result"
    }
   ],
   "source": [
    "rfc.fit(x_train,y_train)"
   ]
  },
  {
   "cell_type": "code",
   "execution_count": 64,
   "id": "a2d12cff-9b9a-4c4a-974e-1acb01b366be",
   "metadata": {},
   "outputs": [],
   "source": [
    "y_pred3=rfc.predict(x_test)"
   ]
  },
  {
   "cell_type": "code",
   "execution_count": 66,
   "id": "dca6e9e8-2f0e-4466-8665-ab5667ac3c05",
   "metadata": {},
   "outputs": [
    {
     "data": {
      "text/plain": [
       "0.8538205980066446"
      ]
     },
     "execution_count": 66,
     "metadata": {},
     "output_type": "execute_result"
    }
   ],
   "source": [
    "accuracy_score(y_test,y_pred3)"
   ]
  },
  {
   "cell_type": "code",
   "execution_count": 90,
   "id": "0478d45b-c494-4cc7-809b-02dca3c2bf99",
   "metadata": {},
   "outputs": [],
   "source": [
    "import pickle"
   ]
  },
  {
   "cell_type": "code",
   "execution_count": 92,
   "id": "48673c09-9e9b-4997-a19a-a6b840dfc17b",
   "metadata": {},
   "outputs": [],
   "source": [
    "pickle.dump(rfc,open('credit_fault.pkl','wb'))"
   ]
  },
  {
   "cell_type": "code",
   "execution_count": null,
   "id": "d3c5fd68-ec0d-4616-98d2-b0ee76236c7b",
   "metadata": {},
   "outputs": [],
   "source": []
  },
  {
   "cell_type": "code",
   "execution_count": null,
   "id": "fc8cb3a1-f0e8-488c-8699-87801931ce3f",
   "metadata": {},
   "outputs": [],
   "source": []
  },
  {
   "cell_type": "code",
   "execution_count": 67,
   "id": "dfbea2e0-09ac-4181-803c-9bb1738f58fe",
   "metadata": {},
   "outputs": [],
   "source": [
    "from sklearn.svm import SVC"
   ]
  },
  {
   "cell_type": "code",
   "execution_count": 68,
   "id": "6658e2c1-35f4-4a9f-98e1-1ab8c028962b",
   "metadata": {},
   "outputs": [],
   "source": [
    "svc=SVC()"
   ]
  },
  {
   "cell_type": "code",
   "execution_count": 69,
   "id": "8abe6517-a549-4f1d-ba5a-ea475f3ad965",
   "metadata": {},
   "outputs": [
    {
     "data": {
      "text/html": [
       "<style>#sk-container-id-6 {color: black;background-color: white;}#sk-container-id-6 pre{padding: 0;}#sk-container-id-6 div.sk-toggleable {background-color: white;}#sk-container-id-6 label.sk-toggleable__label {cursor: pointer;display: block;width: 100%;margin-bottom: 0;padding: 0.3em;box-sizing: border-box;text-align: center;}#sk-container-id-6 label.sk-toggleable__label-arrow:before {content: \"▸\";float: left;margin-right: 0.25em;color: #696969;}#sk-container-id-6 label.sk-toggleable__label-arrow:hover:before {color: black;}#sk-container-id-6 div.sk-estimator:hover label.sk-toggleable__label-arrow:before {color: black;}#sk-container-id-6 div.sk-toggleable__content {max-height: 0;max-width: 0;overflow: hidden;text-align: left;background-color: #f0f8ff;}#sk-container-id-6 div.sk-toggleable__content pre {margin: 0.2em;color: black;border-radius: 0.25em;background-color: #f0f8ff;}#sk-container-id-6 input.sk-toggleable__control:checked~div.sk-toggleable__content {max-height: 200px;max-width: 100%;overflow: auto;}#sk-container-id-6 input.sk-toggleable__control:checked~label.sk-toggleable__label-arrow:before {content: \"▾\";}#sk-container-id-6 div.sk-estimator input.sk-toggleable__control:checked~label.sk-toggleable__label {background-color: #d4ebff;}#sk-container-id-6 div.sk-label input.sk-toggleable__control:checked~label.sk-toggleable__label {background-color: #d4ebff;}#sk-container-id-6 input.sk-hidden--visually {border: 0;clip: rect(1px 1px 1px 1px);clip: rect(1px, 1px, 1px, 1px);height: 1px;margin: -1px;overflow: hidden;padding: 0;position: absolute;width: 1px;}#sk-container-id-6 div.sk-estimator {font-family: monospace;background-color: #f0f8ff;border: 1px dotted black;border-radius: 0.25em;box-sizing: border-box;margin-bottom: 0.5em;}#sk-container-id-6 div.sk-estimator:hover {background-color: #d4ebff;}#sk-container-id-6 div.sk-parallel-item::after {content: \"\";width: 100%;border-bottom: 1px solid gray;flex-grow: 1;}#sk-container-id-6 div.sk-label:hover label.sk-toggleable__label {background-color: #d4ebff;}#sk-container-id-6 div.sk-serial::before {content: \"\";position: absolute;border-left: 1px solid gray;box-sizing: border-box;top: 0;bottom: 0;left: 50%;z-index: 0;}#sk-container-id-6 div.sk-serial {display: flex;flex-direction: column;align-items: center;background-color: white;padding-right: 0.2em;padding-left: 0.2em;position: relative;}#sk-container-id-6 div.sk-item {position: relative;z-index: 1;}#sk-container-id-6 div.sk-parallel {display: flex;align-items: stretch;justify-content: center;background-color: white;position: relative;}#sk-container-id-6 div.sk-item::before, #sk-container-id-6 div.sk-parallel-item::before {content: \"\";position: absolute;border-left: 1px solid gray;box-sizing: border-box;top: 0;bottom: 0;left: 50%;z-index: -1;}#sk-container-id-6 div.sk-parallel-item {display: flex;flex-direction: column;z-index: 1;position: relative;background-color: white;}#sk-container-id-6 div.sk-parallel-item:first-child::after {align-self: flex-end;width: 50%;}#sk-container-id-6 div.sk-parallel-item:last-child::after {align-self: flex-start;width: 50%;}#sk-container-id-6 div.sk-parallel-item:only-child::after {width: 0;}#sk-container-id-6 div.sk-dashed-wrapped {border: 1px dashed gray;margin: 0 0.4em 0.5em 0.4em;box-sizing: border-box;padding-bottom: 0.4em;background-color: white;}#sk-container-id-6 div.sk-label label {font-family: monospace;font-weight: bold;display: inline-block;line-height: 1.2em;}#sk-container-id-6 div.sk-label-container {text-align: center;}#sk-container-id-6 div.sk-container {/* jupyter's `normalize.less` sets `[hidden] { display: none; }` but bootstrap.min.css set `[hidden] { display: none !important; }` so we also need the `!important` here to be able to override the default hidden behavior on the sphinx rendered scikit-learn.org. See: https://github.com/scikit-learn/scikit-learn/issues/21755 */display: inline-block !important;position: relative;}#sk-container-id-6 div.sk-text-repr-fallback {display: none;}</style><div id=\"sk-container-id-6\" class=\"sk-top-container\"><div class=\"sk-text-repr-fallback\"><pre>SVC()</pre><b>In a Jupyter environment, please rerun this cell to show the HTML representation or trust the notebook. <br />On GitHub, the HTML representation is unable to render, please try loading this page with nbviewer.org.</b></div><div class=\"sk-container\" hidden><div class=\"sk-item\"><div class=\"sk-estimator sk-toggleable\"><input class=\"sk-toggleable__control sk-hidden--visually\" id=\"sk-estimator-id-10\" type=\"checkbox\" checked><label for=\"sk-estimator-id-10\" class=\"sk-toggleable__label sk-toggleable__label-arrow\">SVC</label><div class=\"sk-toggleable__content\"><pre>SVC()</pre></div></div></div></div></div>"
      ],
      "text/plain": [
       "SVC()"
      ]
     },
     "execution_count": 69,
     "metadata": {},
     "output_type": "execute_result"
    }
   ],
   "source": [
    "svc.fit(x_train,y_train)"
   ]
  },
  {
   "cell_type": "code",
   "execution_count": 71,
   "id": "fd157cfe-2f77-46c8-9248-60b3f7afe7f6",
   "metadata": {},
   "outputs": [],
   "source": [
    "y_pred4=svc.predict(x_test)"
   ]
  },
  {
   "cell_type": "code",
   "execution_count": 72,
   "id": "9e33d977-7608-47ef-b80e-47885fbca403",
   "metadata": {},
   "outputs": [
    {
     "data": {
      "text/plain": [
       "0.840531561461794"
      ]
     },
     "execution_count": 72,
     "metadata": {},
     "output_type": "execute_result"
    }
   ],
   "source": [
    "accuracy_score(y_test,y_pred4)"
   ]
  },
  {
   "cell_type": "code",
   "execution_count": 73,
   "id": "26228b32-05ff-46b9-94bd-e8ba085d5a67",
   "metadata": {},
   "outputs": [],
   "source": [
    "from sklearn.tree import DecisionTreeClassifier"
   ]
  },
  {
   "cell_type": "code",
   "execution_count": 74,
   "id": "fa206f24-7a2e-4565-ab60-2408793db910",
   "metadata": {},
   "outputs": [],
   "source": [
    "dtc=DecisionTreeClassifier()"
   ]
  },
  {
   "cell_type": "code",
   "execution_count": 75,
   "id": "72747eb5-7792-4b8a-ad31-942ea6b1edf8",
   "metadata": {},
   "outputs": [],
   "source": [
    "parameter3={'criterion':['gini','entropy','log_loss'],\n",
    "           'splitter':['best','random'],\n",
    "           'max_depth':[1,2,3,4,5],\n",
    "           'max_features':['auto','sqrt','log2'] }\n"
   ]
  },
  {
   "cell_type": "code",
   "execution_count": 76,
   "id": "2ca27d65-9fbf-4f2d-9771-37b095c60da5",
   "metadata": {},
   "outputs": [],
   "source": [
    "gsc=GridSearchCV(dtc,param_grid=parameter3,cv=5,verbose=2)"
   ]
  },
  {
   "cell_type": "code",
   "execution_count": 83,
   "id": "37263f5b-0595-46ca-89da-dc64b92489cb",
   "metadata": {},
   "outputs": [],
   "source": [
    "import warnings\n",
    "warnings.filterwarnings('ignore')"
   ]
  },
  {
   "cell_type": "code",
   "execution_count": 84,
   "id": "1ad8ffd7-f2bb-4e5a-b687-6c3cfe18f0a3",
   "metadata": {},
   "outputs": [
    {
     "name": "stdout",
     "output_type": "stream",
     "text": [
      "Fitting 5 folds for each of 90 candidates, totalling 450 fits\n",
      "[CV] END criterion=gini, max_depth=1, max_features=auto, splitter=best; total time=   0.0s\n",
      "[CV] END criterion=gini, max_depth=1, max_features=auto, splitter=best; total time=   0.0s\n",
      "[CV] END criterion=gini, max_depth=1, max_features=auto, splitter=best; total time=   0.0s\n",
      "[CV] END criterion=gini, max_depth=1, max_features=auto, splitter=best; total time=   0.0s\n",
      "[CV] END criterion=gini, max_depth=1, max_features=auto, splitter=best; total time=   0.0s\n",
      "[CV] END criterion=gini, max_depth=1, max_features=auto, splitter=random; total time=   0.0s\n",
      "[CV] END criterion=gini, max_depth=1, max_features=auto, splitter=random; total time=   0.0s\n",
      "[CV] END criterion=gini, max_depth=1, max_features=auto, splitter=random; total time=   0.0s\n",
      "[CV] END criterion=gini, max_depth=1, max_features=auto, splitter=random; total time=   0.0s\n",
      "[CV] END criterion=gini, max_depth=1, max_features=auto, splitter=random; total time=   0.0s\n",
      "[CV] END criterion=gini, max_depth=1, max_features=sqrt, splitter=best; total time=   0.0s\n",
      "[CV] END criterion=gini, max_depth=1, max_features=sqrt, splitter=best; total time=   0.0s\n",
      "[CV] END criterion=gini, max_depth=1, max_features=sqrt, splitter=best; total time=   0.0s\n",
      "[CV] END criterion=gini, max_depth=1, max_features=sqrt, splitter=best; total time=   0.0s\n",
      "[CV] END criterion=gini, max_depth=1, max_features=sqrt, splitter=best; total time=   0.0s\n",
      "[CV] END criterion=gini, max_depth=1, max_features=sqrt, splitter=random; total time=   0.0s\n",
      "[CV] END criterion=gini, max_depth=1, max_features=sqrt, splitter=random; total time=   0.0s\n",
      "[CV] END criterion=gini, max_depth=1, max_features=sqrt, splitter=random; total time=   0.0s\n",
      "[CV] END criterion=gini, max_depth=1, max_features=sqrt, splitter=random; total time=   0.0s\n",
      "[CV] END criterion=gini, max_depth=1, max_features=sqrt, splitter=random; total time=   0.0s\n",
      "[CV] END criterion=gini, max_depth=1, max_features=log2, splitter=best; total time=   0.0s\n",
      "[CV] END criterion=gini, max_depth=1, max_features=log2, splitter=best; total time=   0.0s\n",
      "[CV] END criterion=gini, max_depth=1, max_features=log2, splitter=best; total time=   0.0s\n",
      "[CV] END criterion=gini, max_depth=1, max_features=log2, splitter=best; total time=   0.0s\n",
      "[CV] END criterion=gini, max_depth=1, max_features=log2, splitter=best; total time=   0.0s\n",
      "[CV] END criterion=gini, max_depth=1, max_features=log2, splitter=random; total time=   0.0s\n",
      "[CV] END criterion=gini, max_depth=1, max_features=log2, splitter=random; total time=   0.0s\n",
      "[CV] END criterion=gini, max_depth=1, max_features=log2, splitter=random; total time=   0.0s\n",
      "[CV] END criterion=gini, max_depth=1, max_features=log2, splitter=random; total time=   0.0s\n",
      "[CV] END criterion=gini, max_depth=1, max_features=log2, splitter=random; total time=   0.0s\n",
      "[CV] END criterion=gini, max_depth=2, max_features=auto, splitter=best; total time=   0.0s\n",
      "[CV] END criterion=gini, max_depth=2, max_features=auto, splitter=best; total time=   0.0s\n",
      "[CV] END criterion=gini, max_depth=2, max_features=auto, splitter=best; total time=   0.0s\n",
      "[CV] END criterion=gini, max_depth=2, max_features=auto, splitter=best; total time=   0.0s\n",
      "[CV] END criterion=gini, max_depth=2, max_features=auto, splitter=best; total time=   0.0s\n",
      "[CV] END criterion=gini, max_depth=2, max_features=auto, splitter=random; total time=   0.0s\n",
      "[CV] END criterion=gini, max_depth=2, max_features=auto, splitter=random; total time=   0.0s\n",
      "[CV] END criterion=gini, max_depth=2, max_features=auto, splitter=random; total time=   0.0s\n",
      "[CV] END criterion=gini, max_depth=2, max_features=auto, splitter=random; total time=   0.0s\n",
      "[CV] END criterion=gini, max_depth=2, max_features=auto, splitter=random; total time=   0.0s\n",
      "[CV] END criterion=gini, max_depth=2, max_features=sqrt, splitter=best; total time=   0.0s\n",
      "[CV] END criterion=gini, max_depth=2, max_features=sqrt, splitter=best; total time=   0.0s\n",
      "[CV] END criterion=gini, max_depth=2, max_features=sqrt, splitter=best; total time=   0.0s\n",
      "[CV] END criterion=gini, max_depth=2, max_features=sqrt, splitter=best; total time=   0.0s\n",
      "[CV] END criterion=gini, max_depth=2, max_features=sqrt, splitter=best; total time=   0.0s\n",
      "[CV] END criterion=gini, max_depth=2, max_features=sqrt, splitter=random; total time=   0.0s\n",
      "[CV] END criterion=gini, max_depth=2, max_features=sqrt, splitter=random; total time=   0.0s\n",
      "[CV] END criterion=gini, max_depth=2, max_features=sqrt, splitter=random; total time=   0.0s\n",
      "[CV] END criterion=gini, max_depth=2, max_features=sqrt, splitter=random; total time=   0.0s\n",
      "[CV] END criterion=gini, max_depth=2, max_features=sqrt, splitter=random; total time=   0.0s\n",
      "[CV] END criterion=gini, max_depth=2, max_features=log2, splitter=best; total time=   0.0s\n",
      "[CV] END criterion=gini, max_depth=2, max_features=log2, splitter=best; total time=   0.0s\n",
      "[CV] END criterion=gini, max_depth=2, max_features=log2, splitter=best; total time=   0.0s\n",
      "[CV] END criterion=gini, max_depth=2, max_features=log2, splitter=best; total time=   0.0s\n",
      "[CV] END criterion=gini, max_depth=2, max_features=log2, splitter=best; total time=   0.0s\n",
      "[CV] END criterion=gini, max_depth=2, max_features=log2, splitter=random; total time=   0.0s\n",
      "[CV] END criterion=gini, max_depth=2, max_features=log2, splitter=random; total time=   0.0s\n",
      "[CV] END criterion=gini, max_depth=2, max_features=log2, splitter=random; total time=   0.0s\n",
      "[CV] END criterion=gini, max_depth=2, max_features=log2, splitter=random; total time=   0.0s\n",
      "[CV] END criterion=gini, max_depth=2, max_features=log2, splitter=random; total time=   0.0s\n",
      "[CV] END criterion=gini, max_depth=3, max_features=auto, splitter=best; total time=   0.0s\n",
      "[CV] END criterion=gini, max_depth=3, max_features=auto, splitter=best; total time=   0.0s\n",
      "[CV] END criterion=gini, max_depth=3, max_features=auto, splitter=best; total time=   0.0s\n",
      "[CV] END criterion=gini, max_depth=3, max_features=auto, splitter=best; total time=   0.0s\n",
      "[CV] END criterion=gini, max_depth=3, max_features=auto, splitter=best; total time=   0.0s\n",
      "[CV] END criterion=gini, max_depth=3, max_features=auto, splitter=random; total time=   0.0s\n",
      "[CV] END criterion=gini, max_depth=3, max_features=auto, splitter=random; total time=   0.0s\n",
      "[CV] END criterion=gini, max_depth=3, max_features=auto, splitter=random; total time=   0.0s\n",
      "[CV] END criterion=gini, max_depth=3, max_features=auto, splitter=random; total time=   0.0s\n",
      "[CV] END criterion=gini, max_depth=3, max_features=auto, splitter=random; total time=   0.0s\n",
      "[CV] END criterion=gini, max_depth=3, max_features=sqrt, splitter=best; total time=   0.0s\n",
      "[CV] END criterion=gini, max_depth=3, max_features=sqrt, splitter=best; total time=   0.0s\n",
      "[CV] END criterion=gini, max_depth=3, max_features=sqrt, splitter=best; total time=   0.0s\n",
      "[CV] END criterion=gini, max_depth=3, max_features=sqrt, splitter=best; total time=   0.0s\n",
      "[CV] END criterion=gini, max_depth=3, max_features=sqrt, splitter=best; total time=   0.0s\n",
      "[CV] END criterion=gini, max_depth=3, max_features=sqrt, splitter=random; total time=   0.0s\n",
      "[CV] END criterion=gini, max_depth=3, max_features=sqrt, splitter=random; total time=   0.0s\n",
      "[CV] END criterion=gini, max_depth=3, max_features=sqrt, splitter=random; total time=   0.0s\n",
      "[CV] END criterion=gini, max_depth=3, max_features=sqrt, splitter=random; total time=   0.0s\n",
      "[CV] END criterion=gini, max_depth=3, max_features=sqrt, splitter=random; total time=   0.0s\n",
      "[CV] END criterion=gini, max_depth=3, max_features=log2, splitter=best; total time=   0.0s\n",
      "[CV] END criterion=gini, max_depth=3, max_features=log2, splitter=best; total time=   0.0s\n",
      "[CV] END criterion=gini, max_depth=3, max_features=log2, splitter=best; total time=   0.0s\n",
      "[CV] END criterion=gini, max_depth=3, max_features=log2, splitter=best; total time=   0.0s\n",
      "[CV] END criterion=gini, max_depth=3, max_features=log2, splitter=best; total time=   0.0s\n",
      "[CV] END criterion=gini, max_depth=3, max_features=log2, splitter=random; total time=   0.0s\n",
      "[CV] END criterion=gini, max_depth=3, max_features=log2, splitter=random; total time=   0.0s\n",
      "[CV] END criterion=gini, max_depth=3, max_features=log2, splitter=random; total time=   0.0s\n",
      "[CV] END criterion=gini, max_depth=3, max_features=log2, splitter=random; total time=   0.0s\n",
      "[CV] END criterion=gini, max_depth=3, max_features=log2, splitter=random; total time=   0.0s\n",
      "[CV] END criterion=gini, max_depth=4, max_features=auto, splitter=best; total time=   0.0s\n",
      "[CV] END criterion=gini, max_depth=4, max_features=auto, splitter=best; total time=   0.0s\n",
      "[CV] END criterion=gini, max_depth=4, max_features=auto, splitter=best; total time=   0.0s\n",
      "[CV] END criterion=gini, max_depth=4, max_features=auto, splitter=best; total time=   0.0s\n",
      "[CV] END criterion=gini, max_depth=4, max_features=auto, splitter=best; total time=   0.0s\n",
      "[CV] END criterion=gini, max_depth=4, max_features=auto, splitter=random; total time=   0.0s\n",
      "[CV] END criterion=gini, max_depth=4, max_features=auto, splitter=random; total time=   0.0s\n",
      "[CV] END criterion=gini, max_depth=4, max_features=auto, splitter=random; total time=   0.0s\n",
      "[CV] END criterion=gini, max_depth=4, max_features=auto, splitter=random; total time=   0.0s\n",
      "[CV] END criterion=gini, max_depth=4, max_features=auto, splitter=random; total time=   0.0s\n",
      "[CV] END criterion=gini, max_depth=4, max_features=sqrt, splitter=best; total time=   0.0s\n",
      "[CV] END criterion=gini, max_depth=4, max_features=sqrt, splitter=best; total time=   0.0s\n",
      "[CV] END criterion=gini, max_depth=4, max_features=sqrt, splitter=best; total time=   0.0s\n",
      "[CV] END criterion=gini, max_depth=4, max_features=sqrt, splitter=best; total time=   0.0s\n",
      "[CV] END criterion=gini, max_depth=4, max_features=sqrt, splitter=best; total time=   0.0s\n",
      "[CV] END criterion=gini, max_depth=4, max_features=sqrt, splitter=random; total time=   0.0s\n",
      "[CV] END criterion=gini, max_depth=4, max_features=sqrt, splitter=random; total time=   0.0s\n",
      "[CV] END criterion=gini, max_depth=4, max_features=sqrt, splitter=random; total time=   0.0s\n",
      "[CV] END criterion=gini, max_depth=4, max_features=sqrt, splitter=random; total time=   0.0s\n",
      "[CV] END criterion=gini, max_depth=4, max_features=sqrt, splitter=random; total time=   0.0s\n",
      "[CV] END criterion=gini, max_depth=4, max_features=log2, splitter=best; total time=   0.0s\n",
      "[CV] END criterion=gini, max_depth=4, max_features=log2, splitter=best; total time=   0.0s\n",
      "[CV] END criterion=gini, max_depth=4, max_features=log2, splitter=best; total time=   0.0s\n",
      "[CV] END criterion=gini, max_depth=4, max_features=log2, splitter=best; total time=   0.0s\n",
      "[CV] END criterion=gini, max_depth=4, max_features=log2, splitter=best; total time=   0.0s\n",
      "[CV] END criterion=gini, max_depth=4, max_features=log2, splitter=random; total time=   0.0s\n",
      "[CV] END criterion=gini, max_depth=4, max_features=log2, splitter=random; total time=   0.0s\n",
      "[CV] END criterion=gini, max_depth=4, max_features=log2, splitter=random; total time=   0.0s\n",
      "[CV] END criterion=gini, max_depth=4, max_features=log2, splitter=random; total time=   0.0s\n",
      "[CV] END criterion=gini, max_depth=4, max_features=log2, splitter=random; total time=   0.0s\n",
      "[CV] END criterion=gini, max_depth=5, max_features=auto, splitter=best; total time=   0.0s\n",
      "[CV] END criterion=gini, max_depth=5, max_features=auto, splitter=best; total time=   0.0s\n",
      "[CV] END criterion=gini, max_depth=5, max_features=auto, splitter=best; total time=   0.0s\n",
      "[CV] END criterion=gini, max_depth=5, max_features=auto, splitter=best; total time=   0.0s\n",
      "[CV] END criterion=gini, max_depth=5, max_features=auto, splitter=best; total time=   0.0s\n",
      "[CV] END criterion=gini, max_depth=5, max_features=auto, splitter=random; total time=   0.0s\n",
      "[CV] END criterion=gini, max_depth=5, max_features=auto, splitter=random; total time=   0.0s\n",
      "[CV] END criterion=gini, max_depth=5, max_features=auto, splitter=random; total time=   0.0s\n",
      "[CV] END criterion=gini, max_depth=5, max_features=auto, splitter=random; total time=   0.0s\n",
      "[CV] END criterion=gini, max_depth=5, max_features=auto, splitter=random; total time=   0.0s\n",
      "[CV] END criterion=gini, max_depth=5, max_features=sqrt, splitter=best; total time=   0.0s\n",
      "[CV] END criterion=gini, max_depth=5, max_features=sqrt, splitter=best; total time=   0.0s\n",
      "[CV] END criterion=gini, max_depth=5, max_features=sqrt, splitter=best; total time=   0.0s\n",
      "[CV] END criterion=gini, max_depth=5, max_features=sqrt, splitter=best; total time=   0.0s\n",
      "[CV] END criterion=gini, max_depth=5, max_features=sqrt, splitter=best; total time=   0.0s\n",
      "[CV] END criterion=gini, max_depth=5, max_features=sqrt, splitter=random; total time=   0.0s\n",
      "[CV] END criterion=gini, max_depth=5, max_features=sqrt, splitter=random; total time=   0.0s\n",
      "[CV] END criterion=gini, max_depth=5, max_features=sqrt, splitter=random; total time=   0.0s\n",
      "[CV] END criterion=gini, max_depth=5, max_features=sqrt, splitter=random; total time=   0.0s\n",
      "[CV] END criterion=gini, max_depth=5, max_features=sqrt, splitter=random; total time=   0.0s\n",
      "[CV] END criterion=gini, max_depth=5, max_features=log2, splitter=best; total time=   0.0s\n",
      "[CV] END criterion=gini, max_depth=5, max_features=log2, splitter=best; total time=   0.0s\n",
      "[CV] END criterion=gini, max_depth=5, max_features=log2, splitter=best; total time=   0.0s\n",
      "[CV] END criterion=gini, max_depth=5, max_features=log2, splitter=best; total time=   0.0s\n",
      "[CV] END criterion=gini, max_depth=5, max_features=log2, splitter=best; total time=   0.0s\n",
      "[CV] END criterion=gini, max_depth=5, max_features=log2, splitter=random; total time=   0.0s\n",
      "[CV] END criterion=gini, max_depth=5, max_features=log2, splitter=random; total time=   0.0s\n",
      "[CV] END criterion=gini, max_depth=5, max_features=log2, splitter=random; total time=   0.0s\n",
      "[CV] END criterion=gini, max_depth=5, max_features=log2, splitter=random; total time=   0.0s\n",
      "[CV] END criterion=gini, max_depth=5, max_features=log2, splitter=random; total time=   0.0s\n",
      "[CV] END criterion=entropy, max_depth=1, max_features=auto, splitter=best; total time=   0.0s\n",
      "[CV] END criterion=entropy, max_depth=1, max_features=auto, splitter=best; total time=   0.0s\n",
      "[CV] END criterion=entropy, max_depth=1, max_features=auto, splitter=best; total time=   0.0s\n",
      "[CV] END criterion=entropy, max_depth=1, max_features=auto, splitter=best; total time=   0.0s\n",
      "[CV] END criterion=entropy, max_depth=1, max_features=auto, splitter=best; total time=   0.0s\n",
      "[CV] END criterion=entropy, max_depth=1, max_features=auto, splitter=random; total time=   0.0s\n",
      "[CV] END criterion=entropy, max_depth=1, max_features=auto, splitter=random; total time=   0.0s\n",
      "[CV] END criterion=entropy, max_depth=1, max_features=auto, splitter=random; total time=   0.0s\n",
      "[CV] END criterion=entropy, max_depth=1, max_features=auto, splitter=random; total time=   0.0s\n",
      "[CV] END criterion=entropy, max_depth=1, max_features=auto, splitter=random; total time=   0.0s\n",
      "[CV] END criterion=entropy, max_depth=1, max_features=sqrt, splitter=best; total time=   0.0s\n",
      "[CV] END criterion=entropy, max_depth=1, max_features=sqrt, splitter=best; total time=   0.0s\n",
      "[CV] END criterion=entropy, max_depth=1, max_features=sqrt, splitter=best; total time=   0.0s\n",
      "[CV] END criterion=entropy, max_depth=1, max_features=sqrt, splitter=best; total time=   0.0s\n",
      "[CV] END criterion=entropy, max_depth=1, max_features=sqrt, splitter=best; total time=   0.0s\n",
      "[CV] END criterion=entropy, max_depth=1, max_features=sqrt, splitter=random; total time=   0.0s\n",
      "[CV] END criterion=entropy, max_depth=1, max_features=sqrt, splitter=random; total time=   0.0s\n",
      "[CV] END criterion=entropy, max_depth=1, max_features=sqrt, splitter=random; total time=   0.0s\n",
      "[CV] END criterion=entropy, max_depth=1, max_features=sqrt, splitter=random; total time=   0.0s\n",
      "[CV] END criterion=entropy, max_depth=1, max_features=sqrt, splitter=random; total time=   0.0s\n",
      "[CV] END criterion=entropy, max_depth=1, max_features=log2, splitter=best; total time=   0.0s\n",
      "[CV] END criterion=entropy, max_depth=1, max_features=log2, splitter=best; total time=   0.0s\n",
      "[CV] END criterion=entropy, max_depth=1, max_features=log2, splitter=best; total time=   0.0s\n",
      "[CV] END criterion=entropy, max_depth=1, max_features=log2, splitter=best; total time=   0.0s\n",
      "[CV] END criterion=entropy, max_depth=1, max_features=log2, splitter=best; total time=   0.0s\n",
      "[CV] END criterion=entropy, max_depth=1, max_features=log2, splitter=random; total time=   0.0s\n",
      "[CV] END criterion=entropy, max_depth=1, max_features=log2, splitter=random; total time=   0.0s\n",
      "[CV] END criterion=entropy, max_depth=1, max_features=log2, splitter=random; total time=   0.0s\n",
      "[CV] END criterion=entropy, max_depth=1, max_features=log2, splitter=random; total time=   0.0s\n",
      "[CV] END criterion=entropy, max_depth=1, max_features=log2, splitter=random; total time=   0.0s\n",
      "[CV] END criterion=entropy, max_depth=2, max_features=auto, splitter=best; total time=   0.0s\n",
      "[CV] END criterion=entropy, max_depth=2, max_features=auto, splitter=best; total time=   0.0s\n",
      "[CV] END criterion=entropy, max_depth=2, max_features=auto, splitter=best; total time=   0.0s\n",
      "[CV] END criterion=entropy, max_depth=2, max_features=auto, splitter=best; total time=   0.0s\n",
      "[CV] END criterion=entropy, max_depth=2, max_features=auto, splitter=best; total time=   0.0s\n",
      "[CV] END criterion=entropy, max_depth=2, max_features=auto, splitter=random; total time=   0.0s\n",
      "[CV] END criterion=entropy, max_depth=2, max_features=auto, splitter=random; total time=   0.0s\n",
      "[CV] END criterion=entropy, max_depth=2, max_features=auto, splitter=random; total time=   0.0s\n",
      "[CV] END criterion=entropy, max_depth=2, max_features=auto, splitter=random; total time=   0.0s\n",
      "[CV] END criterion=entropy, max_depth=2, max_features=auto, splitter=random; total time=   0.0s\n",
      "[CV] END criterion=entropy, max_depth=2, max_features=sqrt, splitter=best; total time=   0.0s\n",
      "[CV] END criterion=entropy, max_depth=2, max_features=sqrt, splitter=best; total time=   0.0s\n",
      "[CV] END criterion=entropy, max_depth=2, max_features=sqrt, splitter=best; total time=   0.0s\n",
      "[CV] END criterion=entropy, max_depth=2, max_features=sqrt, splitter=best; total time=   0.0s\n",
      "[CV] END criterion=entropy, max_depth=2, max_features=sqrt, splitter=best; total time=   0.0s\n",
      "[CV] END criterion=entropy, max_depth=2, max_features=sqrt, splitter=random; total time=   0.0s\n",
      "[CV] END criterion=entropy, max_depth=2, max_features=sqrt, splitter=random; total time=   0.0s\n",
      "[CV] END criterion=entropy, max_depth=2, max_features=sqrt, splitter=random; total time=   0.0s\n",
      "[CV] END criterion=entropy, max_depth=2, max_features=sqrt, splitter=random; total time=   0.0s\n",
      "[CV] END criterion=entropy, max_depth=2, max_features=sqrt, splitter=random; total time=   0.0s\n",
      "[CV] END criterion=entropy, max_depth=2, max_features=log2, splitter=best; total time=   0.0s\n",
      "[CV] END criterion=entropy, max_depth=2, max_features=log2, splitter=best; total time=   0.0s\n",
      "[CV] END criterion=entropy, max_depth=2, max_features=log2, splitter=best; total time=   0.0s\n",
      "[CV] END criterion=entropy, max_depth=2, max_features=log2, splitter=best; total time=   0.0s\n",
      "[CV] END criterion=entropy, max_depth=2, max_features=log2, splitter=best; total time=   0.0s\n",
      "[CV] END criterion=entropy, max_depth=2, max_features=log2, splitter=random; total time=   0.0s\n",
      "[CV] END criterion=entropy, max_depth=2, max_features=log2, splitter=random; total time=   0.0s\n",
      "[CV] END criterion=entropy, max_depth=2, max_features=log2, splitter=random; total time=   0.0s\n",
      "[CV] END criterion=entropy, max_depth=2, max_features=log2, splitter=random; total time=   0.0s\n",
      "[CV] END criterion=entropy, max_depth=2, max_features=log2, splitter=random; total time=   0.0s\n",
      "[CV] END criterion=entropy, max_depth=3, max_features=auto, splitter=best; total time=   0.0s\n",
      "[CV] END criterion=entropy, max_depth=3, max_features=auto, splitter=best; total time=   0.0s\n",
      "[CV] END criterion=entropy, max_depth=3, max_features=auto, splitter=best; total time=   0.0s\n",
      "[CV] END criterion=entropy, max_depth=3, max_features=auto, splitter=best; total time=   0.0s\n",
      "[CV] END criterion=entropy, max_depth=3, max_features=auto, splitter=best; total time=   0.0s\n",
      "[CV] END criterion=entropy, max_depth=3, max_features=auto, splitter=random; total time=   0.0s\n",
      "[CV] END criterion=entropy, max_depth=3, max_features=auto, splitter=random; total time=   0.0s\n",
      "[CV] END criterion=entropy, max_depth=3, max_features=auto, splitter=random; total time=   0.0s\n",
      "[CV] END criterion=entropy, max_depth=3, max_features=auto, splitter=random; total time=   0.0s\n",
      "[CV] END criterion=entropy, max_depth=3, max_features=auto, splitter=random; total time=   0.0s\n",
      "[CV] END criterion=entropy, max_depth=3, max_features=sqrt, splitter=best; total time=   0.0s\n",
      "[CV] END criterion=entropy, max_depth=3, max_features=sqrt, splitter=best; total time=   0.0s\n",
      "[CV] END criterion=entropy, max_depth=3, max_features=sqrt, splitter=best; total time=   0.0s\n",
      "[CV] END criterion=entropy, max_depth=3, max_features=sqrt, splitter=best; total time=   0.0s\n",
      "[CV] END criterion=entropy, max_depth=3, max_features=sqrt, splitter=best; total time=   0.0s\n",
      "[CV] END criterion=entropy, max_depth=3, max_features=sqrt, splitter=random; total time=   0.0s\n",
      "[CV] END criterion=entropy, max_depth=3, max_features=sqrt, splitter=random; total time=   0.0s\n",
      "[CV] END criterion=entropy, max_depth=3, max_features=sqrt, splitter=random; total time=   0.0s\n",
      "[CV] END criterion=entropy, max_depth=3, max_features=sqrt, splitter=random; total time=   0.0s\n",
      "[CV] END criterion=entropy, max_depth=3, max_features=sqrt, splitter=random; total time=   0.0s\n",
      "[CV] END criterion=entropy, max_depth=3, max_features=log2, splitter=best; total time=   0.0s\n",
      "[CV] END criterion=entropy, max_depth=3, max_features=log2, splitter=best; total time=   0.0s\n",
      "[CV] END criterion=entropy, max_depth=3, max_features=log2, splitter=best; total time=   0.0s\n",
      "[CV] END criterion=entropy, max_depth=3, max_features=log2, splitter=best; total time=   0.0s\n",
      "[CV] END criterion=entropy, max_depth=3, max_features=log2, splitter=best; total time=   0.0s\n",
      "[CV] END criterion=entropy, max_depth=3, max_features=log2, splitter=random; total time=   0.0s\n",
      "[CV] END criterion=entropy, max_depth=3, max_features=log2, splitter=random; total time=   0.0s\n",
      "[CV] END criterion=entropy, max_depth=3, max_features=log2, splitter=random; total time=   0.0s\n",
      "[CV] END criterion=entropy, max_depth=3, max_features=log2, splitter=random; total time=   0.0s\n",
      "[CV] END criterion=entropy, max_depth=3, max_features=log2, splitter=random; total time=   0.0s\n",
      "[CV] END criterion=entropy, max_depth=4, max_features=auto, splitter=best; total time=   0.0s\n",
      "[CV] END criterion=entropy, max_depth=4, max_features=auto, splitter=best; total time=   0.0s\n",
      "[CV] END criterion=entropy, max_depth=4, max_features=auto, splitter=best; total time=   0.0s\n",
      "[CV] END criterion=entropy, max_depth=4, max_features=auto, splitter=best; total time=   0.0s\n",
      "[CV] END criterion=entropy, max_depth=4, max_features=auto, splitter=best; total time=   0.0s\n",
      "[CV] END criterion=entropy, max_depth=4, max_features=auto, splitter=random; total time=   0.0s\n",
      "[CV] END criterion=entropy, max_depth=4, max_features=auto, splitter=random; total time=   0.0s\n",
      "[CV] END criterion=entropy, max_depth=4, max_features=auto, splitter=random; total time=   0.0s\n",
      "[CV] END criterion=entropy, max_depth=4, max_features=auto, splitter=random; total time=   0.0s\n",
      "[CV] END criterion=entropy, max_depth=4, max_features=auto, splitter=random; total time=   0.0s\n",
      "[CV] END criterion=entropy, max_depth=4, max_features=sqrt, splitter=best; total time=   0.0s\n",
      "[CV] END criterion=entropy, max_depth=4, max_features=sqrt, splitter=best; total time=   0.0s\n",
      "[CV] END criterion=entropy, max_depth=4, max_features=sqrt, splitter=best; total time=   0.0s\n",
      "[CV] END criterion=entropy, max_depth=4, max_features=sqrt, splitter=best; total time=   0.0s\n",
      "[CV] END criterion=entropy, max_depth=4, max_features=sqrt, splitter=best; total time=   0.0s\n",
      "[CV] END criterion=entropy, max_depth=4, max_features=sqrt, splitter=random; total time=   0.0s\n",
      "[CV] END criterion=entropy, max_depth=4, max_features=sqrt, splitter=random; total time=   0.0s\n",
      "[CV] END criterion=entropy, max_depth=4, max_features=sqrt, splitter=random; total time=   0.0s\n",
      "[CV] END criterion=entropy, max_depth=4, max_features=sqrt, splitter=random; total time=   0.0s\n",
      "[CV] END criterion=entropy, max_depth=4, max_features=sqrt, splitter=random; total time=   0.0s\n",
      "[CV] END criterion=entropy, max_depth=4, max_features=log2, splitter=best; total time=   0.0s\n",
      "[CV] END criterion=entropy, max_depth=4, max_features=log2, splitter=best; total time=   0.0s\n",
      "[CV] END criterion=entropy, max_depth=4, max_features=log2, splitter=best; total time=   0.0s\n",
      "[CV] END criterion=entropy, max_depth=4, max_features=log2, splitter=best; total time=   0.0s\n",
      "[CV] END criterion=entropy, max_depth=4, max_features=log2, splitter=best; total time=   0.0s\n",
      "[CV] END criterion=entropy, max_depth=4, max_features=log2, splitter=random; total time=   0.0s\n",
      "[CV] END criterion=entropy, max_depth=4, max_features=log2, splitter=random; total time=   0.0s\n",
      "[CV] END criterion=entropy, max_depth=4, max_features=log2, splitter=random; total time=   0.0s\n",
      "[CV] END criterion=entropy, max_depth=4, max_features=log2, splitter=random; total time=   0.0s\n",
      "[CV] END criterion=entropy, max_depth=4, max_features=log2, splitter=random; total time=   0.0s\n",
      "[CV] END criterion=entropy, max_depth=5, max_features=auto, splitter=best; total time=   0.0s\n",
      "[CV] END criterion=entropy, max_depth=5, max_features=auto, splitter=best; total time=   0.0s\n",
      "[CV] END criterion=entropy, max_depth=5, max_features=auto, splitter=best; total time=   0.0s\n",
      "[CV] END criterion=entropy, max_depth=5, max_features=auto, splitter=best; total time=   0.0s\n",
      "[CV] END criterion=entropy, max_depth=5, max_features=auto, splitter=best; total time=   0.0s\n",
      "[CV] END criterion=entropy, max_depth=5, max_features=auto, splitter=random; total time=   0.0s\n",
      "[CV] END criterion=entropy, max_depth=5, max_features=auto, splitter=random; total time=   0.0s\n",
      "[CV] END criterion=entropy, max_depth=5, max_features=auto, splitter=random; total time=   0.0s\n",
      "[CV] END criterion=entropy, max_depth=5, max_features=auto, splitter=random; total time=   0.0s\n",
      "[CV] END criterion=entropy, max_depth=5, max_features=auto, splitter=random; total time=   0.0s\n",
      "[CV] END criterion=entropy, max_depth=5, max_features=sqrt, splitter=best; total time=   0.0s\n",
      "[CV] END criterion=entropy, max_depth=5, max_features=sqrt, splitter=best; total time=   0.0s\n",
      "[CV] END criterion=entropy, max_depth=5, max_features=sqrt, splitter=best; total time=   0.0s\n",
      "[CV] END criterion=entropy, max_depth=5, max_features=sqrt, splitter=best; total time=   0.0s\n",
      "[CV] END criterion=entropy, max_depth=5, max_features=sqrt, splitter=best; total time=   0.0s\n",
      "[CV] END criterion=entropy, max_depth=5, max_features=sqrt, splitter=random; total time=   0.0s\n",
      "[CV] END criterion=entropy, max_depth=5, max_features=sqrt, splitter=random; total time=   0.0s\n",
      "[CV] END criterion=entropy, max_depth=5, max_features=sqrt, splitter=random; total time=   0.0s\n",
      "[CV] END criterion=entropy, max_depth=5, max_features=sqrt, splitter=random; total time=   0.0s\n",
      "[CV] END criterion=entropy, max_depth=5, max_features=sqrt, splitter=random; total time=   0.0s\n",
      "[CV] END criterion=entropy, max_depth=5, max_features=log2, splitter=best; total time=   0.0s\n",
      "[CV] END criterion=entropy, max_depth=5, max_features=log2, splitter=best; total time=   0.0s\n",
      "[CV] END criterion=entropy, max_depth=5, max_features=log2, splitter=best; total time=   0.0s\n",
      "[CV] END criterion=entropy, max_depth=5, max_features=log2, splitter=best; total time=   0.0s\n",
      "[CV] END criterion=entropy, max_depth=5, max_features=log2, splitter=best; total time=   0.0s\n",
      "[CV] END criterion=entropy, max_depth=5, max_features=log2, splitter=random; total time=   0.0s\n",
      "[CV] END criterion=entropy, max_depth=5, max_features=log2, splitter=random; total time=   0.0s\n",
      "[CV] END criterion=entropy, max_depth=5, max_features=log2, splitter=random; total time=   0.0s\n",
      "[CV] END criterion=entropy, max_depth=5, max_features=log2, splitter=random; total time=   0.0s\n",
      "[CV] END criterion=entropy, max_depth=5, max_features=log2, splitter=random; total time=   0.0s\n",
      "[CV] END criterion=log_loss, max_depth=1, max_features=auto, splitter=best; total time=   0.0s\n",
      "[CV] END criterion=log_loss, max_depth=1, max_features=auto, splitter=best; total time=   0.0s\n",
      "[CV] END criterion=log_loss, max_depth=1, max_features=auto, splitter=best; total time=   0.0s\n",
      "[CV] END criterion=log_loss, max_depth=1, max_features=auto, splitter=best; total time=   0.0s\n",
      "[CV] END criterion=log_loss, max_depth=1, max_features=auto, splitter=best; total time=   0.0s\n",
      "[CV] END criterion=log_loss, max_depth=1, max_features=auto, splitter=random; total time=   0.0s\n",
      "[CV] END criterion=log_loss, max_depth=1, max_features=auto, splitter=random; total time=   0.0s\n",
      "[CV] END criterion=log_loss, max_depth=1, max_features=auto, splitter=random; total time=   0.0s\n",
      "[CV] END criterion=log_loss, max_depth=1, max_features=auto, splitter=random; total time=   0.0s\n",
      "[CV] END criterion=log_loss, max_depth=1, max_features=auto, splitter=random; total time=   0.0s\n",
      "[CV] END criterion=log_loss, max_depth=1, max_features=sqrt, splitter=best; total time=   0.0s\n",
      "[CV] END criterion=log_loss, max_depth=1, max_features=sqrt, splitter=best; total time=   0.0s\n",
      "[CV] END criterion=log_loss, max_depth=1, max_features=sqrt, splitter=best; total time=   0.0s\n",
      "[CV] END criterion=log_loss, max_depth=1, max_features=sqrt, splitter=best; total time=   0.0s\n",
      "[CV] END criterion=log_loss, max_depth=1, max_features=sqrt, splitter=best; total time=   0.0s\n",
      "[CV] END criterion=log_loss, max_depth=1, max_features=sqrt, splitter=random; total time=   0.0s\n",
      "[CV] END criterion=log_loss, max_depth=1, max_features=sqrt, splitter=random; total time=   0.0s\n",
      "[CV] END criterion=log_loss, max_depth=1, max_features=sqrt, splitter=random; total time=   0.0s\n",
      "[CV] END criterion=log_loss, max_depth=1, max_features=sqrt, splitter=random; total time=   0.0s\n",
      "[CV] END criterion=log_loss, max_depth=1, max_features=sqrt, splitter=random; total time=   0.0s\n",
      "[CV] END criterion=log_loss, max_depth=1, max_features=log2, splitter=best; total time=   0.0s\n",
      "[CV] END criterion=log_loss, max_depth=1, max_features=log2, splitter=best; total time=   0.0s\n",
      "[CV] END criterion=log_loss, max_depth=1, max_features=log2, splitter=best; total time=   0.0s\n",
      "[CV] END criterion=log_loss, max_depth=1, max_features=log2, splitter=best; total time=   0.0s\n",
      "[CV] END criterion=log_loss, max_depth=1, max_features=log2, splitter=best; total time=   0.0s\n",
      "[CV] END criterion=log_loss, max_depth=1, max_features=log2, splitter=random; total time=   0.0s\n",
      "[CV] END criterion=log_loss, max_depth=1, max_features=log2, splitter=random; total time=   0.0s\n",
      "[CV] END criterion=log_loss, max_depth=1, max_features=log2, splitter=random; total time=   0.0s\n",
      "[CV] END criterion=log_loss, max_depth=1, max_features=log2, splitter=random; total time=   0.0s\n",
      "[CV] END criterion=log_loss, max_depth=1, max_features=log2, splitter=random; total time=   0.0s\n",
      "[CV] END criterion=log_loss, max_depth=2, max_features=auto, splitter=best; total time=   0.0s\n",
      "[CV] END criterion=log_loss, max_depth=2, max_features=auto, splitter=best; total time=   0.0s\n",
      "[CV] END criterion=log_loss, max_depth=2, max_features=auto, splitter=best; total time=   0.0s\n",
      "[CV] END criterion=log_loss, max_depth=2, max_features=auto, splitter=best; total time=   0.0s\n",
      "[CV] END criterion=log_loss, max_depth=2, max_features=auto, splitter=best; total time=   0.0s\n",
      "[CV] END criterion=log_loss, max_depth=2, max_features=auto, splitter=random; total time=   0.0s\n",
      "[CV] END criterion=log_loss, max_depth=2, max_features=auto, splitter=random; total time=   0.0s\n",
      "[CV] END criterion=log_loss, max_depth=2, max_features=auto, splitter=random; total time=   0.0s\n",
      "[CV] END criterion=log_loss, max_depth=2, max_features=auto, splitter=random; total time=   0.0s\n",
      "[CV] END criterion=log_loss, max_depth=2, max_features=auto, splitter=random; total time=   0.0s\n",
      "[CV] END criterion=log_loss, max_depth=2, max_features=sqrt, splitter=best; total time=   0.0s\n",
      "[CV] END criterion=log_loss, max_depth=2, max_features=sqrt, splitter=best; total time=   0.0s\n",
      "[CV] END criterion=log_loss, max_depth=2, max_features=sqrt, splitter=best; total time=   0.0s\n",
      "[CV] END criterion=log_loss, max_depth=2, max_features=sqrt, splitter=best; total time=   0.0s\n",
      "[CV] END criterion=log_loss, max_depth=2, max_features=sqrt, splitter=best; total time=   0.0s\n",
      "[CV] END criterion=log_loss, max_depth=2, max_features=sqrt, splitter=random; total time=   0.0s\n",
      "[CV] END criterion=log_loss, max_depth=2, max_features=sqrt, splitter=random; total time=   0.0s\n",
      "[CV] END criterion=log_loss, max_depth=2, max_features=sqrt, splitter=random; total time=   0.0s\n",
      "[CV] END criterion=log_loss, max_depth=2, max_features=sqrt, splitter=random; total time=   0.0s\n",
      "[CV] END criterion=log_loss, max_depth=2, max_features=sqrt, splitter=random; total time=   0.0s\n",
      "[CV] END criterion=log_loss, max_depth=2, max_features=log2, splitter=best; total time=   0.0s\n",
      "[CV] END criterion=log_loss, max_depth=2, max_features=log2, splitter=best; total time=   0.0s\n",
      "[CV] END criterion=log_loss, max_depth=2, max_features=log2, splitter=best; total time=   0.0s\n",
      "[CV] END criterion=log_loss, max_depth=2, max_features=log2, splitter=best; total time=   0.0s\n",
      "[CV] END criterion=log_loss, max_depth=2, max_features=log2, splitter=best; total time=   0.0s\n",
      "[CV] END criterion=log_loss, max_depth=2, max_features=log2, splitter=random; total time=   0.0s\n",
      "[CV] END criterion=log_loss, max_depth=2, max_features=log2, splitter=random; total time=   0.0s\n",
      "[CV] END criterion=log_loss, max_depth=2, max_features=log2, splitter=random; total time=   0.0s\n",
      "[CV] END criterion=log_loss, max_depth=2, max_features=log2, splitter=random; total time=   0.0s\n",
      "[CV] END criterion=log_loss, max_depth=2, max_features=log2, splitter=random; total time=   0.0s\n",
      "[CV] END criterion=log_loss, max_depth=3, max_features=auto, splitter=best; total time=   0.0s\n",
      "[CV] END criterion=log_loss, max_depth=3, max_features=auto, splitter=best; total time=   0.0s\n",
      "[CV] END criterion=log_loss, max_depth=3, max_features=auto, splitter=best; total time=   0.0s\n",
      "[CV] END criterion=log_loss, max_depth=3, max_features=auto, splitter=best; total time=   0.0s\n",
      "[CV] END criterion=log_loss, max_depth=3, max_features=auto, splitter=best; total time=   0.0s\n",
      "[CV] END criterion=log_loss, max_depth=3, max_features=auto, splitter=random; total time=   0.0s\n",
      "[CV] END criterion=log_loss, max_depth=3, max_features=auto, splitter=random; total time=   0.0s\n",
      "[CV] END criterion=log_loss, max_depth=3, max_features=auto, splitter=random; total time=   0.0s\n",
      "[CV] END criterion=log_loss, max_depth=3, max_features=auto, splitter=random; total time=   0.0s\n",
      "[CV] END criterion=log_loss, max_depth=3, max_features=auto, splitter=random; total time=   0.0s\n",
      "[CV] END criterion=log_loss, max_depth=3, max_features=sqrt, splitter=best; total time=   0.0s\n",
      "[CV] END criterion=log_loss, max_depth=3, max_features=sqrt, splitter=best; total time=   0.0s\n",
      "[CV] END criterion=log_loss, max_depth=3, max_features=sqrt, splitter=best; total time=   0.0s\n",
      "[CV] END criterion=log_loss, max_depth=3, max_features=sqrt, splitter=best; total time=   0.0s\n",
      "[CV] END criterion=log_loss, max_depth=3, max_features=sqrt, splitter=best; total time=   0.0s\n",
      "[CV] END criterion=log_loss, max_depth=3, max_features=sqrt, splitter=random; total time=   0.0s\n",
      "[CV] END criterion=log_loss, max_depth=3, max_features=sqrt, splitter=random; total time=   0.0s\n",
      "[CV] END criterion=log_loss, max_depth=3, max_features=sqrt, splitter=random; total time=   0.0s\n",
      "[CV] END criterion=log_loss, max_depth=3, max_features=sqrt, splitter=random; total time=   0.0s\n",
      "[CV] END criterion=log_loss, max_depth=3, max_features=sqrt, splitter=random; total time=   0.0s\n",
      "[CV] END criterion=log_loss, max_depth=3, max_features=log2, splitter=best; total time=   0.0s\n",
      "[CV] END criterion=log_loss, max_depth=3, max_features=log2, splitter=best; total time=   0.0s\n",
      "[CV] END criterion=log_loss, max_depth=3, max_features=log2, splitter=best; total time=   0.0s\n",
      "[CV] END criterion=log_loss, max_depth=3, max_features=log2, splitter=best; total time=   0.0s\n",
      "[CV] END criterion=log_loss, max_depth=3, max_features=log2, splitter=best; total time=   0.0s\n",
      "[CV] END criterion=log_loss, max_depth=3, max_features=log2, splitter=random; total time=   0.0s\n",
      "[CV] END criterion=log_loss, max_depth=3, max_features=log2, splitter=random; total time=   0.0s\n",
      "[CV] END criterion=log_loss, max_depth=3, max_features=log2, splitter=random; total time=   0.0s\n",
      "[CV] END criterion=log_loss, max_depth=3, max_features=log2, splitter=random; total time=   0.0s\n",
      "[CV] END criterion=log_loss, max_depth=3, max_features=log2, splitter=random; total time=   0.0s\n",
      "[CV] END criterion=log_loss, max_depth=4, max_features=auto, splitter=best; total time=   0.0s\n",
      "[CV] END criterion=log_loss, max_depth=4, max_features=auto, splitter=best; total time=   0.0s\n",
      "[CV] END criterion=log_loss, max_depth=4, max_features=auto, splitter=best; total time=   0.0s\n",
      "[CV] END criterion=log_loss, max_depth=4, max_features=auto, splitter=best; total time=   0.0s\n",
      "[CV] END criterion=log_loss, max_depth=4, max_features=auto, splitter=best; total time=   0.0s\n",
      "[CV] END criterion=log_loss, max_depth=4, max_features=auto, splitter=random; total time=   0.0s\n",
      "[CV] END criterion=log_loss, max_depth=4, max_features=auto, splitter=random; total time=   0.0s\n",
      "[CV] END criterion=log_loss, max_depth=4, max_features=auto, splitter=random; total time=   0.0s\n",
      "[CV] END criterion=log_loss, max_depth=4, max_features=auto, splitter=random; total time=   0.0s\n",
      "[CV] END criterion=log_loss, max_depth=4, max_features=auto, splitter=random; total time=   0.0s\n",
      "[CV] END criterion=log_loss, max_depth=4, max_features=sqrt, splitter=best; total time=   0.0s\n",
      "[CV] END criterion=log_loss, max_depth=4, max_features=sqrt, splitter=best; total time=   0.0s\n",
      "[CV] END criterion=log_loss, max_depth=4, max_features=sqrt, splitter=best; total time=   0.0s\n",
      "[CV] END criterion=log_loss, max_depth=4, max_features=sqrt, splitter=best; total time=   0.0s\n",
      "[CV] END criterion=log_loss, max_depth=4, max_features=sqrt, splitter=best; total time=   0.0s\n",
      "[CV] END criterion=log_loss, max_depth=4, max_features=sqrt, splitter=random; total time=   0.0s\n",
      "[CV] END criterion=log_loss, max_depth=4, max_features=sqrt, splitter=random; total time=   0.0s\n",
      "[CV] END criterion=log_loss, max_depth=4, max_features=sqrt, splitter=random; total time=   0.0s\n",
      "[CV] END criterion=log_loss, max_depth=4, max_features=sqrt, splitter=random; total time=   0.0s\n",
      "[CV] END criterion=log_loss, max_depth=4, max_features=sqrt, splitter=random; total time=   0.0s\n",
      "[CV] END criterion=log_loss, max_depth=4, max_features=log2, splitter=best; total time=   0.0s\n",
      "[CV] END criterion=log_loss, max_depth=4, max_features=log2, splitter=best; total time=   0.0s\n",
      "[CV] END criterion=log_loss, max_depth=4, max_features=log2, splitter=best; total time=   0.0s\n",
      "[CV] END criterion=log_loss, max_depth=4, max_features=log2, splitter=best; total time=   0.0s\n",
      "[CV] END criterion=log_loss, max_depth=4, max_features=log2, splitter=best; total time=   0.0s\n",
      "[CV] END criterion=log_loss, max_depth=4, max_features=log2, splitter=random; total time=   0.0s\n",
      "[CV] END criterion=log_loss, max_depth=4, max_features=log2, splitter=random; total time=   0.0s\n",
      "[CV] END criterion=log_loss, max_depth=4, max_features=log2, splitter=random; total time=   0.0s\n",
      "[CV] END criterion=log_loss, max_depth=4, max_features=log2, splitter=random; total time=   0.0s\n",
      "[CV] END criterion=log_loss, max_depth=4, max_features=log2, splitter=random; total time=   0.0s\n",
      "[CV] END criterion=log_loss, max_depth=5, max_features=auto, splitter=best; total time=   0.0s\n",
      "[CV] END criterion=log_loss, max_depth=5, max_features=auto, splitter=best; total time=   0.0s\n",
      "[CV] END criterion=log_loss, max_depth=5, max_features=auto, splitter=best; total time=   0.0s\n",
      "[CV] END criterion=log_loss, max_depth=5, max_features=auto, splitter=best; total time=   0.0s\n",
      "[CV] END criterion=log_loss, max_depth=5, max_features=auto, splitter=best; total time=   0.0s\n",
      "[CV] END criterion=log_loss, max_depth=5, max_features=auto, splitter=random; total time=   0.0s\n",
      "[CV] END criterion=log_loss, max_depth=5, max_features=auto, splitter=random; total time=   0.0s\n",
      "[CV] END criterion=log_loss, max_depth=5, max_features=auto, splitter=random; total time=   0.0s\n",
      "[CV] END criterion=log_loss, max_depth=5, max_features=auto, splitter=random; total time=   0.0s\n",
      "[CV] END criterion=log_loss, max_depth=5, max_features=auto, splitter=random; total time=   0.0s\n",
      "[CV] END criterion=log_loss, max_depth=5, max_features=sqrt, splitter=best; total time=   0.0s\n",
      "[CV] END criterion=log_loss, max_depth=5, max_features=sqrt, splitter=best; total time=   0.0s\n",
      "[CV] END criterion=log_loss, max_depth=5, max_features=sqrt, splitter=best; total time=   0.0s\n",
      "[CV] END criterion=log_loss, max_depth=5, max_features=sqrt, splitter=best; total time=   0.0s\n",
      "[CV] END criterion=log_loss, max_depth=5, max_features=sqrt, splitter=best; total time=   0.0s\n",
      "[CV] END criterion=log_loss, max_depth=5, max_features=sqrt, splitter=random; total time=   0.0s\n",
      "[CV] END criterion=log_loss, max_depth=5, max_features=sqrt, splitter=random; total time=   0.0s\n",
      "[CV] END criterion=log_loss, max_depth=5, max_features=sqrt, splitter=random; total time=   0.0s\n",
      "[CV] END criterion=log_loss, max_depth=5, max_features=sqrt, splitter=random; total time=   0.0s\n",
      "[CV] END criterion=log_loss, max_depth=5, max_features=sqrt, splitter=random; total time=   0.0s\n",
      "[CV] END criterion=log_loss, max_depth=5, max_features=log2, splitter=best; total time=   0.0s\n",
      "[CV] END criterion=log_loss, max_depth=5, max_features=log2, splitter=best; total time=   0.0s\n",
      "[CV] END criterion=log_loss, max_depth=5, max_features=log2, splitter=best; total time=   0.0s\n",
      "[CV] END criterion=log_loss, max_depth=5, max_features=log2, splitter=best; total time=   0.0s\n",
      "[CV] END criterion=log_loss, max_depth=5, max_features=log2, splitter=best; total time=   0.0s\n",
      "[CV] END criterion=log_loss, max_depth=5, max_features=log2, splitter=random; total time=   0.0s\n",
      "[CV] END criterion=log_loss, max_depth=5, max_features=log2, splitter=random; total time=   0.0s\n",
      "[CV] END criterion=log_loss, max_depth=5, max_features=log2, splitter=random; total time=   0.0s\n",
      "[CV] END criterion=log_loss, max_depth=5, max_features=log2, splitter=random; total time=   0.0s\n",
      "[CV] END criterion=log_loss, max_depth=5, max_features=log2, splitter=random; total time=   0.0s\n"
     ]
    },
    {
     "data": {
      "text/html": [
       "<style>#sk-container-id-9 {color: black;background-color: white;}#sk-container-id-9 pre{padding: 0;}#sk-container-id-9 div.sk-toggleable {background-color: white;}#sk-container-id-9 label.sk-toggleable__label {cursor: pointer;display: block;width: 100%;margin-bottom: 0;padding: 0.3em;box-sizing: border-box;text-align: center;}#sk-container-id-9 label.sk-toggleable__label-arrow:before {content: \"▸\";float: left;margin-right: 0.25em;color: #696969;}#sk-container-id-9 label.sk-toggleable__label-arrow:hover:before {color: black;}#sk-container-id-9 div.sk-estimator:hover label.sk-toggleable__label-arrow:before {color: black;}#sk-container-id-9 div.sk-toggleable__content {max-height: 0;max-width: 0;overflow: hidden;text-align: left;background-color: #f0f8ff;}#sk-container-id-9 div.sk-toggleable__content pre {margin: 0.2em;color: black;border-radius: 0.25em;background-color: #f0f8ff;}#sk-container-id-9 input.sk-toggleable__control:checked~div.sk-toggleable__content {max-height: 200px;max-width: 100%;overflow: auto;}#sk-container-id-9 input.sk-toggleable__control:checked~label.sk-toggleable__label-arrow:before {content: \"▾\";}#sk-container-id-9 div.sk-estimator input.sk-toggleable__control:checked~label.sk-toggleable__label {background-color: #d4ebff;}#sk-container-id-9 div.sk-label input.sk-toggleable__control:checked~label.sk-toggleable__label {background-color: #d4ebff;}#sk-container-id-9 input.sk-hidden--visually {border: 0;clip: rect(1px 1px 1px 1px);clip: rect(1px, 1px, 1px, 1px);height: 1px;margin: -1px;overflow: hidden;padding: 0;position: absolute;width: 1px;}#sk-container-id-9 div.sk-estimator {font-family: monospace;background-color: #f0f8ff;border: 1px dotted black;border-radius: 0.25em;box-sizing: border-box;margin-bottom: 0.5em;}#sk-container-id-9 div.sk-estimator:hover {background-color: #d4ebff;}#sk-container-id-9 div.sk-parallel-item::after {content: \"\";width: 100%;border-bottom: 1px solid gray;flex-grow: 1;}#sk-container-id-9 div.sk-label:hover label.sk-toggleable__label {background-color: #d4ebff;}#sk-container-id-9 div.sk-serial::before {content: \"\";position: absolute;border-left: 1px solid gray;box-sizing: border-box;top: 0;bottom: 0;left: 50%;z-index: 0;}#sk-container-id-9 div.sk-serial {display: flex;flex-direction: column;align-items: center;background-color: white;padding-right: 0.2em;padding-left: 0.2em;position: relative;}#sk-container-id-9 div.sk-item {position: relative;z-index: 1;}#sk-container-id-9 div.sk-parallel {display: flex;align-items: stretch;justify-content: center;background-color: white;position: relative;}#sk-container-id-9 div.sk-item::before, #sk-container-id-9 div.sk-parallel-item::before {content: \"\";position: absolute;border-left: 1px solid gray;box-sizing: border-box;top: 0;bottom: 0;left: 50%;z-index: -1;}#sk-container-id-9 div.sk-parallel-item {display: flex;flex-direction: column;z-index: 1;position: relative;background-color: white;}#sk-container-id-9 div.sk-parallel-item:first-child::after {align-self: flex-end;width: 50%;}#sk-container-id-9 div.sk-parallel-item:last-child::after {align-self: flex-start;width: 50%;}#sk-container-id-9 div.sk-parallel-item:only-child::after {width: 0;}#sk-container-id-9 div.sk-dashed-wrapped {border: 1px dashed gray;margin: 0 0.4em 0.5em 0.4em;box-sizing: border-box;padding-bottom: 0.4em;background-color: white;}#sk-container-id-9 div.sk-label label {font-family: monospace;font-weight: bold;display: inline-block;line-height: 1.2em;}#sk-container-id-9 div.sk-label-container {text-align: center;}#sk-container-id-9 div.sk-container {/* jupyter's `normalize.less` sets `[hidden] { display: none; }` but bootstrap.min.css set `[hidden] { display: none !important; }` so we also need the `!important` here to be able to override the default hidden behavior on the sphinx rendered scikit-learn.org. See: https://github.com/scikit-learn/scikit-learn/issues/21755 */display: inline-block !important;position: relative;}#sk-container-id-9 div.sk-text-repr-fallback {display: none;}</style><div id=\"sk-container-id-9\" class=\"sk-top-container\"><div class=\"sk-text-repr-fallback\"><pre>GridSearchCV(cv=5, estimator=DecisionTreeClassifier(),\n",
       "             param_grid={&#x27;criterion&#x27;: [&#x27;gini&#x27;, &#x27;entropy&#x27;, &#x27;log_loss&#x27;],\n",
       "                         &#x27;max_depth&#x27;: [1, 2, 3, 4, 5],\n",
       "                         &#x27;max_features&#x27;: [&#x27;auto&#x27;, &#x27;sqrt&#x27;, &#x27;log2&#x27;],\n",
       "                         &#x27;splitter&#x27;: [&#x27;best&#x27;, &#x27;random&#x27;]},\n",
       "             verbose=2)</pre><b>In a Jupyter environment, please rerun this cell to show the HTML representation or trust the notebook. <br />On GitHub, the HTML representation is unable to render, please try loading this page with nbviewer.org.</b></div><div class=\"sk-container\" hidden><div class=\"sk-item sk-dashed-wrapped\"><div class=\"sk-label-container\"><div class=\"sk-label sk-toggleable\"><input class=\"sk-toggleable__control sk-hidden--visually\" id=\"sk-estimator-id-15\" type=\"checkbox\" ><label for=\"sk-estimator-id-15\" class=\"sk-toggleable__label sk-toggleable__label-arrow\">GridSearchCV</label><div class=\"sk-toggleable__content\"><pre>GridSearchCV(cv=5, estimator=DecisionTreeClassifier(),\n",
       "             param_grid={&#x27;criterion&#x27;: [&#x27;gini&#x27;, &#x27;entropy&#x27;, &#x27;log_loss&#x27;],\n",
       "                         &#x27;max_depth&#x27;: [1, 2, 3, 4, 5],\n",
       "                         &#x27;max_features&#x27;: [&#x27;auto&#x27;, &#x27;sqrt&#x27;, &#x27;log2&#x27;],\n",
       "                         &#x27;splitter&#x27;: [&#x27;best&#x27;, &#x27;random&#x27;]},\n",
       "             verbose=2)</pre></div></div></div><div class=\"sk-parallel\"><div class=\"sk-parallel-item\"><div class=\"sk-item\"><div class=\"sk-label-container\"><div class=\"sk-label sk-toggleable\"><input class=\"sk-toggleable__control sk-hidden--visually\" id=\"sk-estimator-id-16\" type=\"checkbox\" ><label for=\"sk-estimator-id-16\" class=\"sk-toggleable__label sk-toggleable__label-arrow\">estimator: DecisionTreeClassifier</label><div class=\"sk-toggleable__content\"><pre>DecisionTreeClassifier()</pre></div></div></div><div class=\"sk-serial\"><div class=\"sk-item\"><div class=\"sk-estimator sk-toggleable\"><input class=\"sk-toggleable__control sk-hidden--visually\" id=\"sk-estimator-id-17\" type=\"checkbox\" ><label for=\"sk-estimator-id-17\" class=\"sk-toggleable__label sk-toggleable__label-arrow\">DecisionTreeClassifier</label><div class=\"sk-toggleable__content\"><pre>DecisionTreeClassifier()</pre></div></div></div></div></div></div></div></div></div></div>"
      ],
      "text/plain": [
       "GridSearchCV(cv=5, estimator=DecisionTreeClassifier(),\n",
       "             param_grid={'criterion': ['gini', 'entropy', 'log_loss'],\n",
       "                         'max_depth': [1, 2, 3, 4, 5],\n",
       "                         'max_features': ['auto', 'sqrt', 'log2'],\n",
       "                         'splitter': ['best', 'random']},\n",
       "             verbose=2)"
      ]
     },
     "execution_count": 84,
     "metadata": {},
     "output_type": "execute_result"
    }
   ],
   "source": [
    "gsc.fit(x_train,y_train)"
   ]
  },
  {
   "cell_type": "code",
   "execution_count": 85,
   "id": "81b6a968-2aa6-4df8-9c93-90f893ca448f",
   "metadata": {},
   "outputs": [
    {
     "data": {
      "text/plain": [
       "{'criterion': 'log_loss',\n",
       " 'max_depth': 4,\n",
       " 'max_features': 'auto',\n",
       " 'splitter': 'random'}"
      ]
     },
     "execution_count": 85,
     "metadata": {},
     "output_type": "execute_result"
    }
   ],
   "source": [
    "gsc.best_params_"
   ]
  },
  {
   "cell_type": "code",
   "execution_count": 86,
   "id": "a8a918cf-0477-45f7-a5ec-a2afb05cd6de",
   "metadata": {},
   "outputs": [],
   "source": [
    "dtc=DecisionTreeClassifier(criterion='entropy',max_depth=4,max_features='sqrt',splitter='random')"
   ]
  },
  {
   "cell_type": "code",
   "execution_count": 87,
   "id": "b9e7657f-2429-4a6a-b57c-fc81e5199716",
   "metadata": {},
   "outputs": [
    {
     "data": {
      "text/html": [
       "<style>#sk-container-id-10 {color: black;background-color: white;}#sk-container-id-10 pre{padding: 0;}#sk-container-id-10 div.sk-toggleable {background-color: white;}#sk-container-id-10 label.sk-toggleable__label {cursor: pointer;display: block;width: 100%;margin-bottom: 0;padding: 0.3em;box-sizing: border-box;text-align: center;}#sk-container-id-10 label.sk-toggleable__label-arrow:before {content: \"▸\";float: left;margin-right: 0.25em;color: #696969;}#sk-container-id-10 label.sk-toggleable__label-arrow:hover:before {color: black;}#sk-container-id-10 div.sk-estimator:hover label.sk-toggleable__label-arrow:before {color: black;}#sk-container-id-10 div.sk-toggleable__content {max-height: 0;max-width: 0;overflow: hidden;text-align: left;background-color: #f0f8ff;}#sk-container-id-10 div.sk-toggleable__content pre {margin: 0.2em;color: black;border-radius: 0.25em;background-color: #f0f8ff;}#sk-container-id-10 input.sk-toggleable__control:checked~div.sk-toggleable__content {max-height: 200px;max-width: 100%;overflow: auto;}#sk-container-id-10 input.sk-toggleable__control:checked~label.sk-toggleable__label-arrow:before {content: \"▾\";}#sk-container-id-10 div.sk-estimator input.sk-toggleable__control:checked~label.sk-toggleable__label {background-color: #d4ebff;}#sk-container-id-10 div.sk-label input.sk-toggleable__control:checked~label.sk-toggleable__label {background-color: #d4ebff;}#sk-container-id-10 input.sk-hidden--visually {border: 0;clip: rect(1px 1px 1px 1px);clip: rect(1px, 1px, 1px, 1px);height: 1px;margin: -1px;overflow: hidden;padding: 0;position: absolute;width: 1px;}#sk-container-id-10 div.sk-estimator {font-family: monospace;background-color: #f0f8ff;border: 1px dotted black;border-radius: 0.25em;box-sizing: border-box;margin-bottom: 0.5em;}#sk-container-id-10 div.sk-estimator:hover {background-color: #d4ebff;}#sk-container-id-10 div.sk-parallel-item::after {content: \"\";width: 100%;border-bottom: 1px solid gray;flex-grow: 1;}#sk-container-id-10 div.sk-label:hover label.sk-toggleable__label {background-color: #d4ebff;}#sk-container-id-10 div.sk-serial::before {content: \"\";position: absolute;border-left: 1px solid gray;box-sizing: border-box;top: 0;bottom: 0;left: 50%;z-index: 0;}#sk-container-id-10 div.sk-serial {display: flex;flex-direction: column;align-items: center;background-color: white;padding-right: 0.2em;padding-left: 0.2em;position: relative;}#sk-container-id-10 div.sk-item {position: relative;z-index: 1;}#sk-container-id-10 div.sk-parallel {display: flex;align-items: stretch;justify-content: center;background-color: white;position: relative;}#sk-container-id-10 div.sk-item::before, #sk-container-id-10 div.sk-parallel-item::before {content: \"\";position: absolute;border-left: 1px solid gray;box-sizing: border-box;top: 0;bottom: 0;left: 50%;z-index: -1;}#sk-container-id-10 div.sk-parallel-item {display: flex;flex-direction: column;z-index: 1;position: relative;background-color: white;}#sk-container-id-10 div.sk-parallel-item:first-child::after {align-self: flex-end;width: 50%;}#sk-container-id-10 div.sk-parallel-item:last-child::after {align-self: flex-start;width: 50%;}#sk-container-id-10 div.sk-parallel-item:only-child::after {width: 0;}#sk-container-id-10 div.sk-dashed-wrapped {border: 1px dashed gray;margin: 0 0.4em 0.5em 0.4em;box-sizing: border-box;padding-bottom: 0.4em;background-color: white;}#sk-container-id-10 div.sk-label label {font-family: monospace;font-weight: bold;display: inline-block;line-height: 1.2em;}#sk-container-id-10 div.sk-label-container {text-align: center;}#sk-container-id-10 div.sk-container {/* jupyter's `normalize.less` sets `[hidden] { display: none; }` but bootstrap.min.css set `[hidden] { display: none !important; }` so we also need the `!important` here to be able to override the default hidden behavior on the sphinx rendered scikit-learn.org. See: https://github.com/scikit-learn/scikit-learn/issues/21755 */display: inline-block !important;position: relative;}#sk-container-id-10 div.sk-text-repr-fallback {display: none;}</style><div id=\"sk-container-id-10\" class=\"sk-top-container\"><div class=\"sk-text-repr-fallback\"><pre>DecisionTreeClassifier(criterion=&#x27;entropy&#x27;, max_depth=4, max_features=&#x27;sqrt&#x27;,\n",
       "                       splitter=&#x27;random&#x27;)</pre><b>In a Jupyter environment, please rerun this cell to show the HTML representation or trust the notebook. <br />On GitHub, the HTML representation is unable to render, please try loading this page with nbviewer.org.</b></div><div class=\"sk-container\" hidden><div class=\"sk-item\"><div class=\"sk-estimator sk-toggleable\"><input class=\"sk-toggleable__control sk-hidden--visually\" id=\"sk-estimator-id-18\" type=\"checkbox\" checked><label for=\"sk-estimator-id-18\" class=\"sk-toggleable__label sk-toggleable__label-arrow\">DecisionTreeClassifier</label><div class=\"sk-toggleable__content\"><pre>DecisionTreeClassifier(criterion=&#x27;entropy&#x27;, max_depth=4, max_features=&#x27;sqrt&#x27;,\n",
       "                       splitter=&#x27;random&#x27;)</pre></div></div></div></div></div>"
      ],
      "text/plain": [
       "DecisionTreeClassifier(criterion='entropy', max_depth=4, max_features='sqrt',\n",
       "                       splitter='random')"
      ]
     },
     "execution_count": 87,
     "metadata": {},
     "output_type": "execute_result"
    }
   ],
   "source": [
    "dtc.fit(x_train,y_train)"
   ]
  },
  {
   "cell_type": "code",
   "execution_count": 88,
   "id": "d92d9156-3bf5-4000-b5ec-6a2358ae3770",
   "metadata": {},
   "outputs": [],
   "source": [
    "y_pred5=dtc.predict(x_test)"
   ]
  },
  {
   "cell_type": "code",
   "execution_count": 89,
   "id": "071b0e9d-7cae-4bc5-b765-c10c85d3162e",
   "metadata": {},
   "outputs": [
    {
     "data": {
      "text/plain": [
       "0.8272425249169435"
      ]
     },
     "execution_count": 89,
     "metadata": {},
     "output_type": "execute_result"
    }
   ],
   "source": [
    "accuracy_score(y_test,y_pred5)"
   ]
  },
  {
   "cell_type": "code",
   "execution_count": null,
   "id": "457ba453-9100-4834-9503-9beffd25596a",
   "metadata": {},
   "outputs": [],
   "source": []
  }
 ],
 "metadata": {
  "kernelspec": {
   "display_name": "Python 3 (ipykernel)",
   "language": "python",
   "name": "python3"
  },
  "language_info": {
   "codemirror_mode": {
    "name": "ipython",
    "version": 3
   },
   "file_extension": ".py",
   "mimetype": "text/x-python",
   "name": "python",
   "nbconvert_exporter": "python",
   "pygments_lexer": "ipython3",
   "version": "3.10.8"
  }
 },
 "nbformat": 4,
 "nbformat_minor": 5
}
